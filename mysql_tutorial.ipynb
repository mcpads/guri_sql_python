{
 "cells": [
  {
   "cell_type": "markdown",
   "metadata": {},
   "source": [
    "# MySQL Connector Python을 이용한 MySQL 사용"
   ]
  },
  {
   "cell_type": "markdown",
   "metadata": {},
   "source": [
    "## 의존성 설치"
   ]
  },
  {
   "cell_type": "code",
   "execution_count": 1,
   "metadata": {},
   "outputs": [
    {
     "name": "stdout",
     "output_type": "stream",
     "text": [
      "Requirement already satisfied: mysql-connector-python in /Users/mcpads/.miniforge3/envs/sql_project/lib/python3.9/site-packages (8.0.29)\n",
      "Requirement already satisfied: protobuf>=3.0.0 in /Users/mcpads/.miniforge3/envs/sql_project/lib/python3.9/site-packages (from mysql-connector-python) (4.21.1)\n",
      "Note: you may need to restart the kernel to use updated packages.\n"
     ]
    }
   ],
   "source": [
    "# mysql 8 이상\n",
    "%pip install mysql-connector-python\n",
    "\n",
    "# 하위 버전\n",
    "# %pip install mysql.connector"
   ]
  },
  {
   "cell_type": "code",
   "execution_count": 2,
   "metadata": {},
   "outputs": [],
   "source": [
    "DB_SETTING = {\n",
    "  \"host\": \"localhost\",\n",
    "  \"port\": \"3808\",\n",
    "  \"user\": \"root\",\n",
    "  \"password\": \"123qweasd.\",\n",
    "}\n",
    "\n",
    "DB_NAME = \"sql_python_test\""
   ]
  },
  {
   "cell_type": "markdown",
   "metadata": {},
   "source": [
    "## DBMS와 연결하기"
   ]
  },
  {
   "cell_type": "code",
   "execution_count": 3,
   "metadata": {},
   "outputs": [],
   "source": [
    "from mysql import connector\n",
    "\n",
    "def get_mysql_connection(setting) -> connector.MySQLConnection:\n",
    "  return connector.Connect(**setting)"
   ]
  },
  {
   "cell_type": "code",
   "execution_count": 4,
   "metadata": {},
   "outputs": [
    {
     "name": "stdout",
     "output_type": "stream",
     "text": [
      "('information_schema',)\n",
      "('mysql',)\n",
      "('performance_schema',)\n",
      "('sql_orm_test',)\n",
      "('sql_test',)\n",
      "('sys',)\n"
     ]
    }
   ],
   "source": [
    "with get_mysql_connection(DB_SETTING) as mysql_conn:\n",
    "  cursor = mysql_conn.cursor()\n",
    "  cursor.execute(\"SHOW DATABASES\")\n",
    "\n",
    "  for db in cursor:\n",
    "    print (db)"
   ]
  },
  {
   "cell_type": "markdown",
   "metadata": {},
   "source": [
    "## DB 만들기"
   ]
  },
  {
   "cell_type": "code",
   "execution_count": 5,
   "metadata": {},
   "outputs": [],
   "source": [
    "with get_mysql_connection(DB_SETTING) as mysql_conn:\n",
    "  cursor = mysql_conn.cursor()\n",
    "  cursor.execute(\"SHOW DATABASES\")\n",
    "  exist_flag = False\n",
    "  for name_tuple in cursor:\n",
    "    exist_flag = exist_flag or DB_NAME in name_tuple\n",
    "\n",
    "  if not exist_flag:\n",
    "    # 반드시 강력한 확인 후 사용해야하는 문장\n",
    "    cursor.execute(f\"CREATE DATABASE {DB_NAME}\")"
   ]
  },
  {
   "cell_type": "code",
   "execution_count": 6,
   "metadata": {},
   "outputs": [
    {
     "name": "stdout",
     "output_type": "stream",
     "text": [
      "('information_schema',)\n",
      "('mysql',)\n",
      "('performance_schema',)\n",
      "('sql_orm_test',)\n",
      "('sql_python_test',)\n",
      "('sql_test',)\n",
      "('sys',)\n"
     ]
    }
   ],
   "source": [
    "with get_mysql_connection(DB_SETTING) as mysql_conn:\n",
    "  cursor = mysql_conn.cursor()\n",
    "  cursor.execute(\"SHOW DATABASES\")\n",
    "\n",
    "  for db in cursor:\n",
    "    print (db)"
   ]
  },
  {
   "cell_type": "markdown",
   "metadata": {},
   "source": [
    "## DB와 연결하기"
   ]
  },
  {
   "cell_type": "code",
   "execution_count": 7,
   "metadata": {},
   "outputs": [],
   "source": [
    "DB_SETTING['database'] = DB_NAME"
   ]
  },
  {
   "cell_type": "markdown",
   "metadata": {},
   "source": [
    "## 테이블 만들기"
   ]
  },
  {
   "cell_type": "code",
   "execution_count": 8,
   "metadata": {},
   "outputs": [],
   "source": [
    "mysql_conn = get_mysql_connection(DB_SETTING)"
   ]
  },
  {
   "cell_type": "code",
   "execution_count": 9,
   "metadata": {},
   "outputs": [],
   "source": [
    "cursor = mysql_conn.cursor(buffered=True)\n",
    "\n",
    "USER_CREATE_SQL = \\\n",
    "\"\"\"\n",
    "CREATE TABLE user (\n",
    "  id int AUTO_INCREMENT,\n",
    "  name VARCHAR(20) NOT NULL,\n",
    "  age INT NOT NULL,\n",
    "  birthday DATE,\n",
    "  reg_date TIMESTAMP DEFAULT CURRENT_TIMESTAMP,\n",
    "  PRIMARY KEY (id)\n",
    ");\n",
    "\"\"\"\n",
    "\n",
    "cursor.execute(USER_CREATE_SQL)"
   ]
  },
  {
   "cell_type": "code",
   "execution_count": 10,
   "metadata": {},
   "outputs": [
    {
     "name": "stdout",
     "output_type": "stream",
     "text": [
      "('user',)\n"
     ]
    }
   ],
   "source": [
    "cursor.execute(\"SHOW TABLES\")\n",
    "for x in cursor:\n",
    "  print (x)"
   ]
  },
  {
   "cell_type": "markdown",
   "metadata": {},
   "source": [
    "## 생 트랜잭션 날리기"
   ]
  },
  {
   "cell_type": "code",
   "execution_count": 11,
   "metadata": {},
   "outputs": [
    {
     "name": "stdout",
     "output_type": "stream",
     "text": [
      "cmd_query insert result: {'field_count': 0, 'affected_rows': 1, 'insert_id': 1, 'status_flag': 1, 'warning_count': 0}\n"
     ]
    }
   ],
   "source": [
    "mysql_conn.start_transaction()\n",
    "print (\"cmd_query insert result:\", mysql_conn.cmd_query(\"INSERT INTO user (name, age, birthday) VALUES ('황씨', '26', '1996-02-21')\"))\n",
    "mysql_conn.commit()"
   ]
  },
  {
   "cell_type": "code",
   "execution_count": 12,
   "metadata": {},
   "outputs": [
    {
     "name": "stdout",
     "output_type": "stream",
     "text": [
      "cmd_query insert result: {'field_count': 0, 'affected_rows': 1, 'insert_id': 2, 'status_flag': 1, 'warning_count': 0}\n"
     ]
    }
   ],
   "source": [
    "mysql_conn.start_transaction()\n",
    "print (\"cmd_query insert result:\", mysql_conn.cmd_query(\"INSERT INTO user (name, age, birthday) VALUES ('구씨', '26', '1996-02-21')\"))\n",
    "mysql_conn.rollback()"
   ]
  },
  {
   "cell_type": "markdown",
   "metadata": {},
   "source": [
    "## 커서를 이용하여 트랜잭션 날리기"
   ]
  },
  {
   "cell_type": "code",
   "execution_count": 13,
   "metadata": {},
   "outputs": [
    {
     "name": "stdout",
     "output_type": "stream",
     "text": [
      "[(1, '황씨', 26, datetime.date(1996, 2, 21), datetime.datetime(2022, 5, 31, 10, 4, 42))]\n"
     ]
    },
    {
     "data": {
      "text/plain": [
       "True"
      ]
     },
     "execution_count": 13,
     "metadata": {},
     "output_type": "execute_result"
    }
   ],
   "source": [
    "mysql_cursor = mysql_conn.cursor(buffered=True)\n",
    "mysql_cursor.execute(\"SELECT * FROM user\")\n",
    "print (mysql_cursor.fetchall())\n",
    "mysql_cursor.close()"
   ]
  },
  {
   "cell_type": "code",
   "execution_count": 14,
   "metadata": {},
   "outputs": [
    {
     "name": "stdout",
     "output_type": "stream",
     "text": [
      "(1, '황씨', 26, datetime.date(1996, 2, 21), datetime.datetime(2022, 5, 31, 10, 4, 42))\n"
     ]
    },
    {
     "data": {
      "text/plain": [
       "True"
      ]
     },
     "execution_count": 14,
     "metadata": {},
     "output_type": "execute_result"
    }
   ],
   "source": [
    "mysql_cursor = mysql_conn.cursor(buffered=True)\n",
    "mysql_cursor.execute(\"SELECT * FROM user\")\n",
    "# fetchall\n",
    "for row in mysql_cursor:\n",
    "  print (row)\n",
    "mysql_cursor.close()"
   ]
  },
  {
   "cell_type": "code",
   "execution_count": 15,
   "metadata": {},
   "outputs": [
    {
     "name": "stdout",
     "output_type": "stream",
     "text": [
      "(1, '황씨', 26, datetime.date(1996, 2, 21), datetime.datetime(2022, 5, 31, 10, 4, 42))\n"
     ]
    },
    {
     "data": {
      "text/plain": [
       "True"
      ]
     },
     "execution_count": 15,
     "metadata": {},
     "output_type": "execute_result"
    }
   ],
   "source": [
    "mysql_cursor = mysql_conn.cursor(buffered=True)\n",
    "mysql_cursor.execute(\"SELECT * FROM user\")\n",
    "print (mysql_cursor.fetchone())\n",
    "mysql_cursor.close()"
   ]
  },
  {
   "cell_type": "markdown",
   "metadata": {},
   "source": [
    "## 가짜 데이터를 이용한 테스팅 해보기"
   ]
  },
  {
   "cell_type": "code",
   "execution_count": 16,
   "metadata": {},
   "outputs": [
    {
     "name": "stdout",
     "output_type": "stream",
     "text": [
      "Requirement already satisfied: Faker in /Users/mcpads/.miniforge3/envs/sql_project/lib/python3.9/site-packages (13.12.0)\n",
      "Requirement already satisfied: python-dateutil>=2.4 in /Users/mcpads/.miniforge3/envs/sql_project/lib/python3.9/site-packages (from Faker) (2.8.2)\n",
      "Requirement already satisfied: six>=1.5 in /Users/mcpads/.miniforge3/envs/sql_project/lib/python3.9/site-packages (from python-dateutil>=2.4->Faker) (1.16.0)\n",
      "Note: you may need to restart the kernel to use updated packages.\n"
     ]
    }
   ],
   "source": [
    "%pip install Faker"
   ]
  },
  {
   "cell_type": "code",
   "execution_count": 17,
   "metadata": {},
   "outputs": [],
   "source": [
    "from faker import Faker\n",
    "import datetime\n",
    "Faker.seed(42)"
   ]
  },
  {
   "cell_type": "code",
   "execution_count": 18,
   "metadata": {},
   "outputs": [],
   "source": [
    "faker = Faker(locale='ko_KR')\n"
   ]
  },
  {
   "cell_type": "code",
   "execution_count": 19,
   "metadata": {},
   "outputs": [],
   "source": [
    "def get_date_string_from_date(date: datetime.date):\n",
    "  return \"%04d-%02d-%02d\" % (date.year, date.month, date.day)\n",
    "\n",
    "def gen_fake_user_data():\n",
    "  name = faker.name()\n",
    "  birthday = faker.date_between(start_date=datetime.datetime.today() - datetime.timedelta(days=10000), end_date=datetime.datetime.today())\n",
    "  age_dt = datetime.datetime.today() - datetime.datetime.combine(birthday, datetime.datetime.min.time()) \n",
    "\n",
    "  age = age_dt.days // 365\n",
    "  return { \"name\" : name, \"birthday\": get_date_string_from_date(birthday), \"age\": age, }\n"
   ]
  },
  {
   "cell_type": "code",
   "execution_count": 20,
   "metadata": {},
   "outputs": [
    {
     "data": {
      "text/plain": [
       "{'name': '김수민', 'birthday': '2002-08-17', 'age': 19}"
      ]
     },
     "execution_count": 20,
     "metadata": {},
     "output_type": "execute_result"
    }
   ],
   "source": [
    "gen_fake_user_data()"
   ]
  },
  {
   "cell_type": "code",
   "execution_count": 21,
   "metadata": {},
   "outputs": [],
   "source": [
    "def create_values_from_data(data):\n",
    "  return f\"('{data['name']}', '{data['age']}', '{data['birthday']}')\"\n",
    "\n",
    "def generate_sql_str_values(count=50):\n",
    "  l = []\n",
    "  for _ in range(count):\n",
    "    data_str = create_values_from_data(gen_fake_user_data())\n",
    "    l.append(data_str)\n",
    "\n",
    "  return ', '.join(l)"
   ]
  },
  {
   "cell_type": "code",
   "execution_count": 22,
   "metadata": {},
   "outputs": [
    {
     "data": {
      "text/plain": [
       "\"('김정호', '8', '2013-08-03'), ('이경수', '19', '2002-06-22'), ('조영호', '3', '2019-05-25'), ('정서윤', '7', '2015-01-31'), ('문정훈', '21', '2000-06-19')\""
      ]
     },
     "execution_count": 22,
     "metadata": {},
     "output_type": "execute_result"
    }
   ],
   "source": [
    "generate_sql_str_values(5)"
   ]
  },
  {
   "cell_type": "code",
   "execution_count": 23,
   "metadata": {},
   "outputs": [],
   "source": [
    "mysql_cursor: connector.connection.CursorBase = mysql_conn.cursor(buffered=True)"
   ]
  },
  {
   "cell_type": "code",
   "execution_count": 24,
   "metadata": {},
   "outputs": [],
   "source": [
    "mysql_cursor.execute(\"INSERT INTO user (name, age, birthday) VALUES %s\" % generate_sql_str_values())\n",
    "# 이거 안하면 확정이 안됨\n",
    "mysql_conn.commit()"
   ]
  },
  {
   "cell_type": "code",
   "execution_count": 25,
   "metadata": {},
   "outputs": [
    {
     "name": "stdout",
     "output_type": "stream",
     "text": [
      "(1, '황씨', 26, datetime.date(1996, 2, 21), datetime.datetime(2022, 5, 31, 10, 4, 42))\n",
      "(3, '이민지', 1, datetime.date(2021, 1, 4), datetime.datetime(2022, 5, 31, 10, 4, 44))\n",
      "(4, '김동현', 15, datetime.date(2006, 9, 26), datetime.datetime(2022, 5, 31, 10, 4, 44))\n",
      "(5, '송지민', 9, datetime.date(2013, 4, 12), datetime.datetime(2022, 5, 31, 10, 4, 44))\n",
      "(6, '유도현', 17, datetime.date(2005, 1, 3), datetime.datetime(2022, 5, 31, 10, 4, 44))\n",
      "(7, '강채원', 7, datetime.date(2014, 9, 5), datetime.datetime(2022, 5, 31, 10, 4, 44))\n",
      "(8, '김정남', 1, datetime.date(2021, 5, 3), datetime.datetime(2022, 5, 31, 10, 4, 44))\n",
      "(9, '김상호', 23, datetime.date(1998, 6, 21), datetime.datetime(2022, 5, 31, 10, 4, 44))\n",
      "(10, '박준영', 21, datetime.date(2000, 7, 26), datetime.datetime(2022, 5, 31, 10, 4, 44))\n",
      "(11, '김상훈', 4, datetime.date(2018, 4, 16), datetime.datetime(2022, 5, 31, 10, 4, 44))\n",
      "(12, '강보람', 2, datetime.date(2019, 11, 4), datetime.datetime(2022, 5, 31, 10, 4, 44))\n",
      "(13, '박서준', 5, datetime.date(2016, 10, 22), datetime.datetime(2022, 5, 31, 10, 4, 44))\n",
      "(14, '김순옥', 1, datetime.date(2021, 3, 5), datetime.datetime(2022, 5, 31, 10, 4, 44))\n",
      "(15, '김경희', 16, datetime.date(2005, 10, 7), datetime.datetime(2022, 5, 31, 10, 4, 44))\n",
      "(16, '김지훈', 8, datetime.date(2014, 5, 1), datetime.datetime(2022, 5, 31, 10, 4, 44))\n",
      "(17, '이은지', 13, datetime.date(2008, 6, 29), datetime.datetime(2022, 5, 31, 10, 4, 44))\n",
      "(18, '윤민서', 22, datetime.date(1999, 10, 14), datetime.datetime(2022, 5, 31, 10, 4, 44))\n",
      "(19, '최상훈', 7, datetime.date(2014, 12, 3), datetime.datetime(2022, 5, 31, 10, 4, 44))\n",
      "(20, '최성호', 22, datetime.date(1999, 9, 28), datetime.datetime(2022, 5, 31, 10, 4, 44))\n",
      "(21, '김명숙', 23, datetime.date(1998, 10, 6), datetime.datetime(2022, 5, 31, 10, 4, 44))\n",
      "(22, '김정수', 7, datetime.date(2015, 4, 29), datetime.datetime(2022, 5, 31, 10, 4, 44))\n",
      "(23, '이현준', 9, datetime.date(2013, 1, 13), datetime.datetime(2022, 5, 31, 10, 4, 44))\n",
      "(24, '최진우', 4, datetime.date(2018, 3, 7), datetime.datetime(2022, 5, 31, 10, 4, 44))\n",
      "(25, '장옥자', 18, datetime.date(2004, 2, 10), datetime.datetime(2022, 5, 31, 10, 4, 44))\n",
      "(26, '이수진', 22, datetime.date(2000, 5, 31), datetime.datetime(2022, 5, 31, 10, 4, 44))\n",
      "(27, '곽중수', 18, datetime.date(2003, 12, 30), datetime.datetime(2022, 5, 31, 10, 4, 44))\n",
      "(28, '권예진', 23, datetime.date(1998, 8, 27), datetime.datetime(2022, 5, 31, 10, 4, 44))\n",
      "(29, '이은주', 6, datetime.date(2015, 10, 3), datetime.datetime(2022, 5, 31, 10, 4, 44))\n",
      "(30, '이민준', 0, datetime.date(2021, 7, 11), datetime.datetime(2022, 5, 31, 10, 4, 44))\n",
      "(31, '허은서', 10, datetime.date(2011, 8, 29), datetime.datetime(2022, 5, 31, 10, 4, 44))\n",
      "(32, '남중수', 16, datetime.date(2005, 6, 30), datetime.datetime(2022, 5, 31, 10, 4, 44))\n",
      "(33, '김영호', 24, datetime.date(1997, 9, 17), datetime.datetime(2022, 5, 31, 10, 4, 44))\n",
      "(34, '박도윤', 1, datetime.date(2020, 11, 29), datetime.datetime(2022, 5, 31, 10, 4, 44))\n",
      "(35, '김은지', 8, datetime.date(2013, 9, 27), datetime.datetime(2022, 5, 31, 10, 4, 44))\n",
      "(36, '박예준', 20, datetime.date(2002, 3, 29), datetime.datetime(2022, 5, 31, 10, 4, 44))\n",
      "(37, '권정순', 3, datetime.date(2019, 4, 17), datetime.datetime(2022, 5, 31, 10, 4, 44))\n",
      "(38, '지재호', 12, datetime.date(2009, 12, 9), datetime.datetime(2022, 5, 31, 10, 4, 44))\n",
      "(39, '박선영', 25, datetime.date(1997, 3, 18), datetime.datetime(2022, 5, 31, 10, 4, 44))\n",
      "(40, '최상현', 19, datetime.date(2002, 7, 11), datetime.datetime(2022, 5, 31, 10, 4, 44))\n",
      "(41, '오도윤', 25, datetime.date(1997, 4, 29), datetime.datetime(2022, 5, 31, 10, 4, 44))\n",
      "(42, '고명자', 19, datetime.date(2003, 2, 17), datetime.datetime(2022, 5, 31, 10, 4, 44))\n",
      "(43, '박영철', 2, datetime.date(2019, 8, 24), datetime.datetime(2022, 5, 31, 10, 4, 44))\n",
      "(44, '최예은', 0, datetime.date(2021, 9, 23), datetime.datetime(2022, 5, 31, 10, 4, 44))\n",
      "(45, '이동현', 4, datetime.date(2017, 6, 15), datetime.datetime(2022, 5, 31, 10, 4, 44))\n",
      "(46, '이영수', 2, datetime.date(2019, 11, 3), datetime.datetime(2022, 5, 31, 10, 4, 44))\n",
      "(47, '윤재호', 25, datetime.date(1997, 2, 4), datetime.datetime(2022, 5, 31, 10, 4, 44))\n",
      "(48, '이준호', 18, datetime.date(2003, 6, 30), datetime.datetime(2022, 5, 31, 10, 4, 44))\n",
      "(49, '박민수', 21, datetime.date(2001, 4, 11), datetime.datetime(2022, 5, 31, 10, 4, 44))\n",
      "(50, '김지훈', 12, datetime.date(2010, 2, 10), datetime.datetime(2022, 5, 31, 10, 4, 44))\n",
      "(51, '고미숙', 5, datetime.date(2017, 3, 22), datetime.datetime(2022, 5, 31, 10, 4, 44))\n",
      "(52, '전현주', 1, datetime.date(2020, 9, 2), datetime.datetime(2022, 5, 31, 10, 4, 44))\n"
     ]
    }
   ],
   "source": [
    "mysql_cursor.execute(\"SELECT * FROM user\")\n",
    "# fetchall\n",
    "for row in mysql_cursor:\n",
    "  print (row)"
   ]
  },
  {
   "cell_type": "code",
   "execution_count": 26,
   "metadata": {},
   "outputs": [],
   "source": [
    "def execute_query_with_print(query, params=()):\n",
    "  mysql_cursor: connector.connection.CursorBase = mysql_conn.cursor(buffered=True)\n",
    "  mysql_cursor.execute(query, params=params)\n",
    "  for x in mysql_cursor:\n",
    "    print (x)\n",
    "  mysql_cursor.close()\n",
    "\n"
   ]
  },
  {
   "cell_type": "code",
   "execution_count": 27,
   "metadata": {},
   "outputs": [
    {
     "name": "stdout",
     "output_type": "stream",
     "text": [
      "(1, '황씨', 26, datetime.date(1996, 2, 21), datetime.datetime(2022, 5, 31, 10, 4, 42))\n",
      "(31, '허은서', 10, datetime.date(2011, 8, 29), datetime.datetime(2022, 5, 31, 10, 4, 44))\n",
      "(24, '최진우', 4, datetime.date(2018, 3, 7), datetime.datetime(2022, 5, 31, 10, 4, 44))\n",
      "(44, '최예은', 0, datetime.date(2021, 9, 23), datetime.datetime(2022, 5, 31, 10, 4, 44))\n",
      "(20, '최성호', 22, datetime.date(1999, 9, 28), datetime.datetime(2022, 5, 31, 10, 4, 44))\n",
      "(19, '최상훈', 7, datetime.date(2014, 12, 3), datetime.datetime(2022, 5, 31, 10, 4, 44))\n",
      "(40, '최상현', 19, datetime.date(2002, 7, 11), datetime.datetime(2022, 5, 31, 10, 4, 44))\n",
      "(38, '지재호', 12, datetime.date(2009, 12, 9), datetime.datetime(2022, 5, 31, 10, 4, 44))\n",
      "(52, '전현주', 1, datetime.date(2020, 9, 2), datetime.datetime(2022, 5, 31, 10, 4, 44))\n",
      "(25, '장옥자', 18, datetime.date(2004, 2, 10), datetime.datetime(2022, 5, 31, 10, 4, 44))\n",
      "(23, '이현준', 9, datetime.date(2013, 1, 13), datetime.datetime(2022, 5, 31, 10, 4, 44))\n",
      "(48, '이준호', 18, datetime.date(2003, 6, 30), datetime.datetime(2022, 5, 31, 10, 4, 44))\n",
      "(17, '이은지', 13, datetime.date(2008, 6, 29), datetime.datetime(2022, 5, 31, 10, 4, 44))\n",
      "(29, '이은주', 6, datetime.date(2015, 10, 3), datetime.datetime(2022, 5, 31, 10, 4, 44))\n",
      "(46, '이영수', 2, datetime.date(2019, 11, 3), datetime.datetime(2022, 5, 31, 10, 4, 44))\n",
      "(26, '이수진', 22, datetime.date(2000, 5, 31), datetime.datetime(2022, 5, 31, 10, 4, 44))\n",
      "(3, '이민지', 1, datetime.date(2021, 1, 4), datetime.datetime(2022, 5, 31, 10, 4, 44))\n",
      "(30, '이민준', 0, datetime.date(2021, 7, 11), datetime.datetime(2022, 5, 31, 10, 4, 44))\n",
      "(45, '이동현', 4, datetime.date(2017, 6, 15), datetime.datetime(2022, 5, 31, 10, 4, 44))\n",
      "(47, '윤재호', 25, datetime.date(1997, 2, 4), datetime.datetime(2022, 5, 31, 10, 4, 44))\n",
      "(18, '윤민서', 22, datetime.date(1999, 10, 14), datetime.datetime(2022, 5, 31, 10, 4, 44))\n",
      "(6, '유도현', 17, datetime.date(2005, 1, 3), datetime.datetime(2022, 5, 31, 10, 4, 44))\n",
      "(41, '오도윤', 25, datetime.date(1997, 4, 29), datetime.datetime(2022, 5, 31, 10, 4, 44))\n",
      "(5, '송지민', 9, datetime.date(2013, 4, 12), datetime.datetime(2022, 5, 31, 10, 4, 44))\n",
      "(10, '박준영', 21, datetime.date(2000, 7, 26), datetime.datetime(2022, 5, 31, 10, 4, 44))\n",
      "(36, '박예준', 20, datetime.date(2002, 3, 29), datetime.datetime(2022, 5, 31, 10, 4, 44))\n",
      "(43, '박영철', 2, datetime.date(2019, 8, 24), datetime.datetime(2022, 5, 31, 10, 4, 44))\n",
      "(39, '박선영', 25, datetime.date(1997, 3, 18), datetime.datetime(2022, 5, 31, 10, 4, 44))\n",
      "(13, '박서준', 5, datetime.date(2016, 10, 22), datetime.datetime(2022, 5, 31, 10, 4, 44))\n",
      "(49, '박민수', 21, datetime.date(2001, 4, 11), datetime.datetime(2022, 5, 31, 10, 4, 44))\n",
      "(34, '박도윤', 1, datetime.date(2020, 11, 29), datetime.datetime(2022, 5, 31, 10, 4, 44))\n",
      "(32, '남중수', 16, datetime.date(2005, 6, 30), datetime.datetime(2022, 5, 31, 10, 4, 44))\n",
      "(16, '김지훈', 8, datetime.date(2014, 5, 1), datetime.datetime(2022, 5, 31, 10, 4, 44))\n",
      "(50, '김지훈', 12, datetime.date(2010, 2, 10), datetime.datetime(2022, 5, 31, 10, 4, 44))\n",
      "(22, '김정수', 7, datetime.date(2015, 4, 29), datetime.datetime(2022, 5, 31, 10, 4, 44))\n",
      "(8, '김정남', 1, datetime.date(2021, 5, 3), datetime.datetime(2022, 5, 31, 10, 4, 44))\n",
      "(35, '김은지', 8, datetime.date(2013, 9, 27), datetime.datetime(2022, 5, 31, 10, 4, 44))\n",
      "(33, '김영호', 24, datetime.date(1997, 9, 17), datetime.datetime(2022, 5, 31, 10, 4, 44))\n",
      "(14, '김순옥', 1, datetime.date(2021, 3, 5), datetime.datetime(2022, 5, 31, 10, 4, 44))\n",
      "(11, '김상훈', 4, datetime.date(2018, 4, 16), datetime.datetime(2022, 5, 31, 10, 4, 44))\n",
      "(9, '김상호', 23, datetime.date(1998, 6, 21), datetime.datetime(2022, 5, 31, 10, 4, 44))\n",
      "(21, '김명숙', 23, datetime.date(1998, 10, 6), datetime.datetime(2022, 5, 31, 10, 4, 44))\n",
      "(4, '김동현', 15, datetime.date(2006, 9, 26), datetime.datetime(2022, 5, 31, 10, 4, 44))\n",
      "(15, '김경희', 16, datetime.date(2005, 10, 7), datetime.datetime(2022, 5, 31, 10, 4, 44))\n",
      "(37, '권정순', 3, datetime.date(2019, 4, 17), datetime.datetime(2022, 5, 31, 10, 4, 44))\n",
      "(28, '권예진', 23, datetime.date(1998, 8, 27), datetime.datetime(2022, 5, 31, 10, 4, 44))\n",
      "(27, '곽중수', 18, datetime.date(2003, 12, 30), datetime.datetime(2022, 5, 31, 10, 4, 44))\n",
      "(51, '고미숙', 5, datetime.date(2017, 3, 22), datetime.datetime(2022, 5, 31, 10, 4, 44))\n",
      "(42, '고명자', 19, datetime.date(2003, 2, 17), datetime.datetime(2022, 5, 31, 10, 4, 44))\n",
      "(7, '강채원', 7, datetime.date(2014, 9, 5), datetime.datetime(2022, 5, 31, 10, 4, 44))\n",
      "(12, '강보람', 2, datetime.date(2019, 11, 4), datetime.datetime(2022, 5, 31, 10, 4, 44))\n"
     ]
    }
   ],
   "source": [
    "\n",
    "execute_query_with_print(\"\"\"\n",
    "SELECT *\n",
    "FROM user\n",
    "WHERE age < 30\n",
    "ORDER BY name DESC, age ASC\n",
    "\"\"\")"
   ]
  },
  {
   "cell_type": "code",
   "execution_count": 28,
   "metadata": {},
   "outputs": [
    {
     "name": "stdout",
     "output_type": "stream",
     "text": [
      "('김지훈', 2)\n",
      "('김상호', 1)\n",
      "('이은지', 1)\n",
      "('장옥자', 1)\n",
      "('김영호', 1)\n",
      "('오도윤', 1)\n",
      "('박민수', 1)\n",
      "('김동현', 1)\n",
      "('강보람', 1)\n",
      "('최성호', 1)\n",
      "('권예진', 1)\n",
      "('박예준', 1)\n",
      "('최예은', 1)\n",
      "('강채원', 1)\n",
      "('김경희', 1)\n",
      "('이현준', 1)\n",
      "('허은서', 1)\n",
      "('박선영', 1)\n",
      "('윤재호', 1)\n",
      "('황씨', 1)\n",
      "('박준영', 1)\n",
      "('윤민서', 1)\n",
      "('이수진', 1)\n",
      "('박도윤', 1)\n",
      "('고명자', 1)\n",
      "('고미숙', 1)\n",
      "('송지민', 1)\n",
      "('박서준', 1)\n",
      "('김명숙', 1)\n",
      "('이은주', 1)\n",
      "('권정순', 1)\n",
      "('이동현', 1)\n",
      "('김정남', 1)\n",
      "('최진우', 1)\n",
      "('남중수', 1)\n",
      "('최상현', 1)\n",
      "('이준호', 1)\n",
      "('이민지', 1)\n",
      "('김상훈', 1)\n",
      "('최상훈', 1)\n",
      "('곽중수', 1)\n",
      "('김은지', 1)\n",
      "('박영철', 1)\n",
      "('전현주', 1)\n",
      "('유도현', 1)\n",
      "('김순옥', 1)\n",
      "('김정수', 1)\n",
      "('이민준', 1)\n",
      "('지재호', 1)\n",
      "('이영수', 1)\n"
     ]
    }
   ],
   "source": [
    "\n",
    "execute_query_with_print(\"\"\"\n",
    "SELECT name, COUNT(id) as id_count\n",
    "FROM user\n",
    "GROUP BY name\n",
    "ORDER BY id_count DESC\n",
    "\"\"\")"
   ]
  },
  {
   "cell_type": "code",
   "execution_count": 29,
   "metadata": {},
   "outputs": [
    {
     "name": "stdout",
     "output_type": "stream",
     "text": [
      "('김지훈', 2)\n"
     ]
    }
   ],
   "source": [
    "\n",
    "execute_query_with_print(\"\"\"\n",
    "SELECT name, COUNT(id) as id_count\n",
    "FROM user\n",
    "GROUP BY name\n",
    "HAVING id_count > 1\n",
    "ORDER BY id_count DESC\n",
    "\"\"\")"
   ]
  }
 ],
 "metadata": {
  "language_info": {
   "name": "python"
  },
  "orig_nbformat": 4
 },
 "nbformat": 4,
 "nbformat_minor": 2
}
