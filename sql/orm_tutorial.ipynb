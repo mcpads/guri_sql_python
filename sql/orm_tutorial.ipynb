{
 "cells": [
  {
   "cell_type": "markdown",
   "metadata": {},
   "source": [
    "# SQLAlchemy를 통한 Python의 ORM 사용"
   ]
  },
  {
   "cell_type": "markdown",
   "metadata": {},
   "source": [
    "## 밑준비"
   ]
  },
  {
   "cell_type": "code",
   "execution_count": 1,
   "metadata": {},
   "outputs": [
    {
     "name": "stdout",
     "output_type": "stream",
     "text": [
      "Requirement already satisfied: sqlalchemy in /Users/mcpads/.miniforge3/envs/sql_project/lib/python3.9/site-packages (1.4.36)\n",
      "Requirement already satisfied: sqlalchemy-utils in /Users/mcpads/.miniforge3/envs/sql_project/lib/python3.9/site-packages (0.38.2)\n",
      "Requirement already satisfied: pymysql in /Users/mcpads/.miniforge3/envs/sql_project/lib/python3.9/site-packages (1.0.2)\n",
      "Requirement already satisfied: cryptography in /Users/mcpads/.miniforge3/envs/sql_project/lib/python3.9/site-packages (37.0.2)\n",
      "Requirement already satisfied: six in /Users/mcpads/.miniforge3/envs/sql_project/lib/python3.9/site-packages (from sqlalchemy-utils) (1.16.0)\n",
      "Requirement already satisfied: cffi>=1.12 in /Users/mcpads/.miniforge3/envs/sql_project/lib/python3.9/site-packages (from cryptography) (1.15.0)\n",
      "Requirement already satisfied: pycparser in /Users/mcpads/.miniforge3/envs/sql_project/lib/python3.9/site-packages (from cffi>=1.12->cryptography) (2.21)\n",
      "Note: you may need to restart the kernel to use updated packages.\n"
     ]
    }
   ],
   "source": [
    "%pip install sqlalchemy sqlalchemy-utils pymysql cryptography"
   ]
  },
  {
   "cell_type": "code",
   "execution_count": 2,
   "metadata": {},
   "outputs": [],
   "source": [
    "DB_SETTING = {\n",
    "  \"drivername\": \"mysql+pymysql\",\n",
    "  \"host\": \"localhost\",\n",
    "  \"port\": \"3808\",\n",
    "  \"username\": \"root\",\n",
    "  \"password\": \"123qweasd.\",\n",
    "  \"database\": \"sql_orm_test\",\n",
    "}"
   ]
  },
  {
   "cell_type": "markdown",
   "metadata": {},
   "source": [
    "## 엔진 생성"
   ]
  },
  {
   "cell_type": "code",
   "execution_count": 3,
   "metadata": {},
   "outputs": [],
   "source": [
    "import sqlalchemy as db\n",
    "from sqlalchemy_utils import database_exists, create_database\n",
    "\n",
    "# DB와의 연결을 관리\n",
    "engine = db.create_engine(db.engine.URL.create(**DB_SETTING), future=True)\n",
    "\n",
    "if not database_exists(engine.url):\n",
    "    create_database(engine.url)\n",
    "else:\n",
    "    engine.connect()"
   ]
  },
  {
   "cell_type": "markdown",
   "metadata": {},
   "source": [
    "## Model(테이블) 생성"
   ]
  },
  {
   "cell_type": "code",
   "execution_count": 4,
   "metadata": {},
   "outputs": [],
   "source": [
    "import sqlalchemy\n",
    "from sqlalchemy.ext.declarative import declarative_base\n",
    "from sqlalchemy import Column, Integer, String, Table, Date, TIMESTAMP\n",
    "\n",
    "# 모든 ORM 모델의 부모 클래스\n",
    "DeclarativeBase = declarative_base()\n",
    "\n",
    "# Table 클래스 직접 써서 테이블 생성\n",
    "address_table = Table(\n",
    "  \"address\", # 테이블명\n",
    "  DeclarativeBase.metadata, # 메타데이터\n",
    "  Column('id', Integer, primary_key=True, autoincrement=\"auto\"),\n",
    "  Column('email', String(50), nullable=False, unique=True),\n",
    "  Column('reg_date', TIMESTAMP, server_default=sqlalchemy.text('CURRENT_TIMESTAMP')),\n",
    "  )\n",
    "\n",
    "\n",
    "# 이 클래스를 상속시 자동으로 등록 준비\n",
    "class User(DeclarativeBase):\n",
    "  __tablename__ = 'user' # 테이블명\n",
    "\n",
    "  id = Column(Integer, primary_key=True, autoincrement=\"auto\")\n",
    "  name = Column(String(20), nullable=False)\n",
    "  age = Column(Integer, nullable=False)\n",
    "  birthday = Column(Date)\n",
    "  reg_date = Column(TIMESTAMP, server_default=sqlalchemy.func.now())\n",
    "\n",
    "\n",
    "# 데이터베이스에 모델 생성\n",
    "DeclarativeBase.metadata.create_all(engine)"
   ]
  },
  {
   "cell_type": "code",
   "execution_count": 5,
   "metadata": {},
   "outputs": [
    {
     "data": {
      "text/plain": [
       "Table('user', MetaData(), Column('id', Integer(), table=<user>, primary_key=True, nullable=False), Column('name', String(length=20), table=<user>, nullable=False), Column('age', Integer(), table=<user>, nullable=False), Column('birthday', Date(), table=<user>), Column('reg_date', TIMESTAMP(), table=<user>, server_default=DefaultClause(<sqlalchemy.sql.functions.now at 0x1093ee9a0; now>, for_update=False)), schema=None)"
      ]
     },
     "execution_count": 5,
     "metadata": {},
     "output_type": "execute_result"
    }
   ],
   "source": [
    "User.__table__"
   ]
  },
  {
   "cell_type": "code",
   "execution_count": 6,
   "metadata": {},
   "outputs": [
    {
     "data": {
      "text/plain": [
       "Table('address', MetaData(), Column('id', Integer(), table=<address>, primary_key=True, nullable=False), Column('email', String(length=50), table=<address>, nullable=False), Column('reg_date', TIMESTAMP(), table=<address>, server_default=DefaultClause(<sqlalchemy.sql.elements.TextClause object at 0x1093ee550>, for_update=False)), schema=None)"
      ]
     },
     "execution_count": 6,
     "metadata": {},
     "output_type": "execute_result"
    }
   ],
   "source": [
    "address_table"
   ]
  },
  {
   "cell_type": "markdown",
   "metadata": {},
   "source": [
    "## 세션 생성"
   ]
  },
  {
   "cell_type": "code",
   "execution_count": 7,
   "metadata": {},
   "outputs": [],
   "source": [
    "from sqlalchemy.orm import sessionmaker\n",
    "from sqlalchemy.orm.session import Session\n",
    "\n",
    "SessionMaker = sessionmaker(bind=engine)\n",
    "\n",
    "# 모든 연결을 관리\n",
    "session: Session = SessionMaker()"
   ]
  },
  {
   "cell_type": "markdown",
   "metadata": {},
   "source": [
    "## ORM 스타일 쿼리 사용하기"
   ]
  },
  {
   "cell_type": "markdown",
   "metadata": {},
   "source": [
    "### 생 쿼리 직접 실행"
   ]
  },
  {
   "cell_type": "code",
   "execution_count": 8,
   "metadata": {},
   "outputs": [
    {
     "name": "stdout",
     "output_type": "stream",
     "text": [
      "('address',)\n",
      "('user',)\n"
     ]
    }
   ],
   "source": [
    "from sqlalchemy import text\n",
    "\n",
    "result = session.execute(\"SHOW TABLES\")\n",
    "\n",
    "for row in result:\n",
    "  print (row)"
   ]
  },
  {
   "cell_type": "markdown",
   "metadata": {},
   "source": [
    "### Insert"
   ]
  },
  {
   "cell_type": "code",
   "execution_count": 9,
   "metadata": {},
   "outputs": [],
   "source": [
    "from faker import Faker\n",
    "import datetime\n",
    "Faker.seed(42)\n",
    "\n",
    "faker = Faker(locale='ko_KR')\n",
    "\n",
    "def get_date_string_from_date(date: datetime.date):\n",
    "  return \"%04d-%02d-%02d\" % (date.year, date.month, date.day)\n",
    "\n",
    "def gen_fake_user_data():\n",
    "  name = faker.name()\n",
    "  birthday = faker.date_between(start_date=datetime.datetime.today() - datetime.timedelta(days=10000), end_date=datetime.datetime.today())\n",
    "  age_dt = datetime.datetime.today() - datetime.datetime.combine(birthday, datetime.datetime.min.time()) \n",
    "\n",
    "  age = age_dt.days // 365\n",
    "  return { \"name\" : name, \"birthday\": get_date_string_from_date(birthday), \"age\": age, }"
   ]
  },
  {
   "cell_type": "markdown",
   "metadata": {},
   "source": [
    "#### 쿼리 문장을 생성하여 Execute하는 스타일"
   ]
  },
  {
   "cell_type": "code",
   "execution_count": 10,
   "metadata": {},
   "outputs": [
    {
     "name": "stdout",
     "output_type": "stream",
     "text": [
      "INSERT INTO \"user\" (name, age, birthday) VALUES (:name, :age, :birthday)\n"
     ]
    }
   ],
   "source": [
    "from sqlalchemy import insert\n",
    "\n",
    "user_python_obj = gen_fake_user_data()\n",
    "stmt = insert(User).values(**user_python_obj)\n",
    "print (stmt)"
   ]
  },
  {
   "cell_type": "code",
   "execution_count": 11,
   "metadata": {},
   "outputs": [
    {
     "name": "stdout",
     "output_type": "stream",
     "text": [
      "파이썬 데이터: {'name': '김수민', 'birthday': '2002-08-17', 'age': 19}\n",
      "생성 문장에 들어가는 데이터: {'name': '김수민', 'age': 19, 'birthday': '2002-08-17'}\n"
     ]
    }
   ],
   "source": [
    "compiled = stmt.compile()\n",
    "\n",
    "print (\"파이썬 데이터:\", user_python_obj)\n",
    "print (\"생성 문장에 들어가는 데이터:\", compiled.params)"
   ]
  },
  {
   "cell_type": "code",
   "execution_count": 12,
   "metadata": {},
   "outputs": [
    {
     "name": "stdout",
     "output_type": "stream",
     "text": [
      "추가된 데이터의 Primary Key: (1,)\n"
     ]
    }
   ],
   "source": [
    "result = session.execute(stmt)\n",
    "session.commit()\n",
    "print(\"추가된 데이터의 Primary Key:\", result.inserted_primary_key)"
   ]
  },
  {
   "cell_type": "code",
   "execution_count": 13,
   "metadata": {},
   "outputs": [
    {
     "name": "stdout",
     "output_type": "stream",
     "text": [
      "추가된 데이터 한개 예시: {'name': '김정호', 'birthday': '2013-08-03', 'age': 8}\n"
     ]
    }
   ],
   "source": [
    "# 데이터 100개 한번에 Insert\n",
    "target_insert_data = [gen_fake_user_data() for _ in range(100)]\n",
    "\n",
    "print (\"추가된 데이터 한개 예시:\", target_insert_data[0])\n",
    "result = session.execute(\n",
    "  insert(User), # Statement\n",
    "  target_insert_data # Data\n",
    ")\n",
    "session.commit()"
   ]
  },
  {
   "cell_type": "markdown",
   "metadata": {},
   "source": [
    "#### ORM의 Object를 이용하는 스타일"
   ]
  },
  {
   "cell_type": "code",
   "execution_count": 14,
   "metadata": {},
   "outputs": [
    {
     "name": "stdout",
     "output_type": "stream",
     "text": [
      "추가됨: {'name': '김경희', 'birthday': '2009-11-14', 'age': 12}\n",
      "생성된 데이터의 ID값: 102\n"
     ]
    }
   ],
   "source": [
    "user_python_obj = gen_fake_user_data()\n",
    "user_orm_obj = User(**user_python_obj)\n",
    "\n",
    "## 다음으로 User object를 insert\n",
    "session.add(user_orm_obj)\n",
    "\n",
    "## 다음으로 생성 확정\n",
    "session.flush()\n",
    "\n",
    "print (\"추가됨:\", user_python_obj)\n",
    "print (\"생성된 데이터의 ID값:\", user_orm_obj.id)"
   ]
  },
  {
   "cell_type": "markdown",
   "metadata": {},
   "source": [
    "### Select"
   ]
  },
  {
   "cell_type": "markdown",
   "metadata": {},
   "source": [
    "#### 쿼리 문장을 생성하여 Execute하는 스타일"
   ]
  },
  {
   "cell_type": "code",
   "execution_count": 15,
   "metadata": {},
   "outputs": [
    {
     "name": "stdout",
     "output_type": "stream",
     "text": [
      "SELECT \"user\".id, \"user\".name, \"user\".age, \"user\".birthday, \"user\".reg_date \n",
      "FROM \"user\"\n"
     ]
    }
   ],
   "source": [
    "from sqlalchemy import select\n",
    "stmt = select(User)\n",
    "print (stmt)"
   ]
  },
  {
   "cell_type": "code",
   "execution_count": 16,
   "metadata": {},
   "outputs": [
    {
     "name": "stdout",
     "output_type": "stream",
     "text": [
      "{'_sa_instance_state': <sqlalchemy.orm.state.InstanceState object at 0x109820580>, 'id': 1, 'age': 19, 'reg_date': datetime.datetime(2022, 5, 31, 10, 4, 25), 'birthday': datetime.date(2002, 8, 17), 'name': '김수민'}\n"
     ]
    }
   ],
   "source": [
    "result = session.execute(stmt)\n",
    "for row in result:\n",
    "  print (row[0].__dict__)\n",
    "  break"
   ]
  },
  {
   "cell_type": "markdown",
   "metadata": {},
   "source": [
    "#### 다양한 조건을 추가"
   ]
  },
  {
   "cell_type": "code",
   "execution_count": 17,
   "metadata": {},
   "outputs": [
    {
     "name": "stdout",
     "output_type": "stream",
     "text": [
      "SELECT \"user\".id, \"user\".name, \"user\".age, \"user\".birthday, \"user\".reg_date \n",
      "FROM \"user\" \n",
      "WHERE \"user\".age = :age_1\n"
     ]
    }
   ],
   "source": [
    "print (select(User).where(User.age == 14))"
   ]
  },
  {
   "cell_type": "code",
   "execution_count": 18,
   "metadata": {},
   "outputs": [
    {
     "name": "stdout",
     "output_type": "stream",
     "text": [
      "SELECT \"user\".id, \"user\".name, \"user\".age, \"user\".birthday, \"user\".reg_date \n",
      "FROM \"user\" \n",
      "WHERE \"user\".age = :age_1 AND \"user\".age BETWEEN :age_2 AND :age_3\n"
     ]
    }
   ],
   "source": [
    "print (select(User).where(User.age == 14, sqlalchemy.between(User.age, 10, 12)))"
   ]
  },
  {
   "cell_type": "code",
   "execution_count": 19,
   "metadata": {},
   "outputs": [
    {
     "name": "stdout",
     "output_type": "stream",
     "text": [
      "SELECT \"user\".id, \"user\".name, \"user\".age, \"user\".birthday, \"user\".reg_date \n",
      "FROM \"user\" ORDER BY \"user\".name DESC\n"
     ]
    }
   ],
   "source": [
    "print (select(User).order_by(User.name.desc()))"
   ]
  },
  {
   "cell_type": "code",
   "execution_count": 20,
   "metadata": {},
   "outputs": [
    {
     "name": "stdout",
     "output_type": "stream",
     "text": [
      "SELECT \"user\".name, count(\"user\".id) AS count_1 \n",
      "FROM \"user\" \n",
      "WHERE \"user\".age > :age_1 GROUP BY \"user\".name \n",
      "HAVING count(\"user\".id) > :count_2\n"
     ]
    }
   ],
   "source": [
    "# SQL 함수는 다음으로 대체한다.\n",
    "from sqlalchemy import func\n",
    "\n",
    "stmt = select(User.name, func.count(User.id)) \\\n",
    "  .where(User.age > 5) \\\n",
    "  .group_by(User.name) \\\n",
    "  .having(func.count(User.id) > 1)\n",
    "\n",
    "\n",
    "print (stmt)"
   ]
  },
  {
   "cell_type": "markdown",
   "metadata": {},
   "source": [
    "#### ORM을 이용하는 스타일"
   ]
  },
  {
   "cell_type": "code",
   "execution_count": 21,
   "metadata": {},
   "outputs": [
    {
     "name": "stdout",
     "output_type": "stream",
     "text": [
      "SELECT user.id AS user_id, user.name AS user_name, user.age AS user_age, user.birthday AS user_birthday, user.reg_date AS user_reg_date \n",
      "FROM user \n",
      "WHERE user.age < %(age_1)s AND month(user.birthday) = %(month_1)s ORDER BY user.age\n"
     ]
    }
   ],
   "source": [
    "user_query = session.query(User)\n",
    "\n",
    "filter_query = user_query.filter(User.age < 15, func.month(User.birthday) == 5).order_by(User.age)\n",
    "print (filter_query)"
   ]
  },
  {
   "cell_type": "code",
   "execution_count": 22,
   "metadata": {},
   "outputs": [
    {
     "name": "stdout",
     "output_type": "stream",
     "text": [
      "{'_sa_instance_state': <sqlalchemy.orm.state.InstanceState object at 0x10986bf10>, 'id': 12, 'age': 1, 'reg_date': datetime.datetime(2022, 5, 31, 10, 4, 25), 'birthday': datetime.date(2021, 5, 3), 'name': '김정남'}\n",
      "{'_sa_instance_state': <sqlalchemy.orm.state.InstanceState object at 0x10986bc40>, 'id': 4, 'age': 3, 'reg_date': datetime.datetime(2022, 5, 31, 10, 4, 25), 'birthday': datetime.date(2019, 5, 25), 'name': '조영호'}\n",
      "{'_sa_instance_state': <sqlalchemy.orm.state.InstanceState object at 0x109872280>, 'id': 20, 'age': 8, 'reg_date': datetime.datetime(2022, 5, 31, 10, 4, 25), 'birthday': datetime.date(2014, 5, 1), 'name': '김지훈'}\n"
     ]
    }
   ],
   "source": [
    "for row in filter_query:\n",
    "  print (row.__dict__)"
   ]
  },
  {
   "cell_type": "markdown",
   "metadata": {},
   "source": [
    "### Update"
   ]
  },
  {
   "cell_type": "markdown",
   "metadata": {},
   "source": [
    "#### 쿼리 문장을 생성하여 Execute하는 스타일"
   ]
  },
  {
   "cell_type": "code",
   "execution_count": 23,
   "metadata": {},
   "outputs": [
    {
     "name": "stdout",
     "output_type": "stream",
     "text": [
      "UPDATE \"user\" SET name=(:name_1 || \"user\".name) WHERE \"user\".id = :id_1\n",
      "{'name_1': '변경: ', 'id_1': 1}\n"
     ]
    }
   ],
   "source": [
    "from sqlalchemy import update\n",
    "\n",
    "stmt = update(User).where(User.id == 1).values(name=\"변경: \" + User.name)\n",
    "\n",
    "print (stmt)\n",
    "print (stmt.compile().params)"
   ]
  },
  {
   "cell_type": "code",
   "execution_count": 24,
   "metadata": {},
   "outputs": [
    {
     "data": {
      "text/plain": [
       "{'_sa_instance_state': <sqlalchemy.orm.state.InstanceState at 0x109820580>,\n",
       " 'age': 19,\n",
       " 'id': 1,\n",
       " 'reg_date': datetime.datetime(2022, 5, 31, 10, 4, 25),\n",
       " 'name': '변경: 김수민',\n",
       " 'birthday': datetime.date(2002, 8, 17)}"
      ]
     },
     "execution_count": 24,
     "metadata": {},
     "output_type": "execute_result"
    }
   ],
   "source": [
    "result = session.execute(stmt)\n",
    "\n",
    "session.commit()\n",
    "\n",
    "session.query(User).get(1).__dict__"
   ]
  },
  {
   "cell_type": "markdown",
   "metadata": {},
   "source": [
    "#### ORM의 Object를 이용하는 스타일"
   ]
  },
  {
   "cell_type": "code",
   "execution_count": 25,
   "metadata": {},
   "outputs": [],
   "source": [
    "user_query = session.query(User)\n",
    "\n",
    "first_user = user_query.get(1)\n",
    "\n",
    "if first_user:\n",
    "  first_user.name = \"ORM\"\n",
    "\n",
    "session.commit()"
   ]
  },
  {
   "cell_type": "code",
   "execution_count": 26,
   "metadata": {},
   "outputs": [
    {
     "data": {
      "text/plain": [
       "{'_sa_instance_state': <sqlalchemy.orm.state.InstanceState at 0x109820580>,\n",
       " 'age': 19,\n",
       " 'id': 1,\n",
       " 'reg_date': datetime.datetime(2022, 5, 31, 10, 4, 25),\n",
       " 'name': 'ORM',\n",
       " 'birthday': datetime.date(2002, 8, 17)}"
      ]
     },
     "execution_count": 26,
     "metadata": {},
     "output_type": "execute_result"
    }
   ],
   "source": [
    "session.query(User).get(1).__dict__"
   ]
  },
  {
   "cell_type": "markdown",
   "metadata": {},
   "source": [
    "## 커넥션 스타일로 직접 쿼리 실행"
   ]
  },
  {
   "cell_type": "code",
   "execution_count": 27,
   "metadata": {},
   "outputs": [
    {
     "name": "stdout",
     "output_type": "stream",
     "text": [
      "ROW fetch 스타일\n",
      "[('hello world',)]\n",
      "ROW for문 순회 스타일\n",
      "('hello world',)\n"
     ]
    }
   ],
   "source": [
    "import sqlalchemy\n",
    "\n",
    "with engine.connect() as conn:\n",
    "  print (\"ROW fetch 스타일\")\n",
    "  result = conn.execute(sqlalchemy.text(\"select 'hello world'\"))\n",
    "  print(result.all())\n",
    "\n",
    "  print (\"ROW for문 순회 스타일\")\n",
    "  result = conn.execute(sqlalchemy.text(\"select 'hello world'\"))\n",
    "  for row in result:\n",
    "    print (row)"
   ]
  },
  {
   "cell_type": "code",
   "execution_count": null,
   "metadata": {},
   "outputs": [],
   "source": []
  }
 ],
 "metadata": {
  "language_info": {
   "name": "python"
  },
  "orig_nbformat": 4
 },
 "nbformat": 4,
 "nbformat_minor": 2
}
