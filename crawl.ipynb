{
 "cells": [
  {
   "cell_type": "markdown",
   "metadata": {},
   "source": [
    "# BeautifulSoup4를 이용한 크롤링"
   ]
  },
  {
   "cell_type": "markdown",
   "metadata": {},
   "source": [
    "# BeautifulSoup4, Selenium으로 크롤링하기"
   ]
  },
  {
   "cell_type": "code",
   "execution_count": 1,
   "metadata": {},
   "outputs": [
    {
     "name": "stdout",
     "output_type": "stream",
     "text": [
      "Requirement already satisfied: beautifulsoup4 in /Users/mcpads/.miniforge3/envs/webcrawl/lib/python3.8/site-packages (4.11.1)\n",
      "Requirement already satisfied: requests in /Users/mcpads/.miniforge3/envs/webcrawl/lib/python3.8/site-packages (2.27.1)\n",
      "Requirement already satisfied: fake-useragent in /Users/mcpads/.miniforge3/envs/webcrawl/lib/python3.8/site-packages (0.1.11)\n",
      "Requirement already satisfied: soupsieve>1.2 in /Users/mcpads/.miniforge3/envs/webcrawl/lib/python3.8/site-packages (from beautifulsoup4) (2.3.2.post1)\n",
      "Requirement already satisfied: urllib3<1.27,>=1.21.1 in /Users/mcpads/.miniforge3/envs/webcrawl/lib/python3.8/site-packages (from requests) (1.26.9)\n",
      "Requirement already satisfied: charset-normalizer~=2.0.0 in /Users/mcpads/.miniforge3/envs/webcrawl/lib/python3.8/site-packages (from requests) (2.0.12)\n",
      "Requirement already satisfied: idna<4,>=2.5 in /Users/mcpads/.miniforge3/envs/webcrawl/lib/python3.8/site-packages (from requests) (3.3)\n",
      "Requirement already satisfied: certifi>=2017.4.17 in /Users/mcpads/.miniforge3/envs/webcrawl/lib/python3.8/site-packages (from requests) (2022.5.18.1)\n",
      "Note: you may need to restart the kernel to use updated packages.\n"
     ]
    }
   ],
   "source": [
    "%pip install beautifulsoup4 requests fake-useragent"
   ]
  },
  {
   "cell_type": "markdown",
   "metadata": {},
   "source": [
    "## 정적 페이지 가지고 놀기"
   ]
  },
  {
   "cell_type": "markdown",
   "metadata": {},
   "source": [
    "### 1. 페이지를 얻어오기"
   ]
  },
  {
   "cell_type": "code",
   "execution_count": 2,
   "metadata": {},
   "outputs": [
    {
     "name": "stdout",
     "output_type": "stream",
     "text": [
      "Response code: 200\n",
      "Response page: <!doctype html><html itemscope=\"\" itemtype=\"http://schema.org/WebPage\" lang=\"ko\"><head><meta content=\"text/html; charset=UTF-8\" http-equiv=\"Content-Type\"><meta content=\"/images/branding/googleg/1x/goo \n",
      "...\n",
      "Response URL: https://www.google.com/\n"
     ]
    }
   ],
   "source": [
    "import requests\n",
    "\n",
    "# requests.get은 페이지를 가져오는 함수이다.\n",
    "response = requests.get(\"https://www.google.com\")\n",
    "\n",
    "# Status Code가 200이면 페이지를 가져오는 것에 성공한 것이다.\n",
    "print (\"Response code:\", response.status_code)\n",
    "\n",
    "# response.text는 받아온 것을 텍스트로 가져온다\n",
    "print (\"Response page:\", response.text[0:200], \"\\n...\")\n",
    "\n",
    "# response.url은 최종적으로 어느 URL의 페이지를 가져왔는지 저장한다.\n",
    "print (\"Response URL:\", response.url)\n",
    "\n",
    "# response.json()은 받아온 것이 json이면 데이터를 파이썬의 사전형 데이터로 변환한다.\n",
    "# print (\"Response json:\", response.json())\n",
    "\n",
    "# 가장 날것인 상태는 response.content이다."
   ]
  },
  {
   "cell_type": "code",
   "execution_count": 3,
   "metadata": {},
   "outputs": [
    {
     "name": "stdout",
     "output_type": "stream",
     "text": [
      "Response code: 403\n"
     ]
    }
   ],
   "source": [
    "import requests\n",
    "\n",
    "# 몇몇 페이지는 requests에 User Agent가 정상적이지 않아 보이면 요청을 거부해버린다\n",
    "response = requests.get(\"https://namu.wiki/w/\")\n",
    "print (\"Response code:\", response.status_code)"
   ]
  },
  {
   "cell_type": "code",
   "execution_count": 4,
   "metadata": {},
   "outputs": [
    {
     "name": "stdout",
     "output_type": "stream",
     "text": [
      "('Connection aborted.', RemoteDisconnected('Remote end closed connection without response'))\n"
     ]
    }
   ],
   "source": [
    "# 몇몇 페이지는 requests에 User Agent가 정상적이지 않아 보이면 연결을 끊어버린다\n",
    "try:\n",
    "  requests.get(\"https://dictionary.cambridge.org/\")\n",
    "except Exception as e:\n",
    "  print (e)"
   ]
  },
  {
   "cell_type": "code",
   "execution_count": 5,
   "metadata": {},
   "outputs": [],
   "source": [
    "from fake_useragent import UserAgent\n",
    "\n",
    "# 페이지 요청을 다른 브라우저에서 요청한 척 하게 만들어줄 때 쓸 객체\n",
    "ua = UserAgent()\n",
    "\n",
    "# 헤더의 User-Agent를 지정해서 크롬 브라우저에서 요청한 척 하면 페이지를 받아올 수 있다.\n",
    "# 더 많은 user agent는 https://github.com/hellysmile/fake-useragent 에서 확인 가능하다.\n",
    "response = requests.get(\"https://namu.wiki/\", headers={\n",
    "  \"User-Agent\": ua.chrome\n",
    "})"
   ]
  },
  {
   "cell_type": "code",
   "execution_count": 6,
   "metadata": {},
   "outputs": [
    {
     "data": {
      "text/plain": [
       "'https://m.novel.naver.com/webnovel/weekday'"
      ]
     },
     "execution_count": 6,
     "metadata": {},
     "output_type": "execute_result"
    }
   ],
   "source": [
    "# 주의: 몇몇 페이지는 모바일 User Agent를 쓰면 요청을 모바일 페이지로 Redirect할 수도 있다.\n",
    "response = requests.get(\"https://novel.naver.com/webnovel/weekday\", headers={\n",
    "  \"User-Agent\": \"Mozilla/5.0 (iPad; CPU OS 6_0 like Mac OS X) AppleWebKit/536.26 (KHTML, like Gecko) Version/6.0 Mobile/10A5355d Safari/8536.25\"\n",
    "})\n",
    "\n",
    "# mobile page로 redirect된 것을 확인 가능하다.\n",
    "response.url"
   ]
  },
  {
   "cell_type": "markdown",
   "metadata": {},
   "source": [
    "### 2. 페이지를 수프로 만들어 추출 준비하기"
   ]
  },
  {
   "cell_type": "code",
   "execution_count": 7,
   "metadata": {},
   "outputs": [],
   "source": [
    "# 페이지 가져오기\n",
    "from fake_useragent import UserAgent\n",
    "\n",
    "ua = UserAgent()\n",
    "response = requests.get(\"https://dictionary.cambridge.org/dictionary/english/respect\", headers={\n",
    "  \"User-Agent\": ua.chrome\n",
    "})\n",
    "\n",
    "page = response.text"
   ]
  },
  {
   "cell_type": "code",
   "execution_count": 8,
   "metadata": {},
   "outputs": [],
   "source": [
    "from bs4 import BeautifulSoup\n",
    "\n",
    "# BeautifulSoup에 요청으로 가져온 페이지를 먹인다.\n",
    "# 결과로 나온 soup는 기본적으로 Document 전체를 나타내는 객체이다.\n",
    "page_soup = BeautifulSoup(page, 'html.parser')"
   ]
  },
  {
   "cell_type": "code",
   "execution_count": 9,
   "metadata": {},
   "outputs": [
    {
     "name": "stdout",
     "output_type": "stream",
     "text": [
      "<!DOCTYPE html>\n",
      "<html lang=\"en\">\n",
      " <head>\n",
      "  <link href=\"/common.css?version=5.0.243\" rel=\"stylesheet\" type=\"text/css\"/>\n",
      "  <style>\n",
      "   .i-amphtml-element>[overflow] {\n",
      "           display: block !important\n"
     ]
    }
   ],
   "source": [
    "# 잘 들어간 것을 확인해보기\n",
    "print(str(page_soup.prettify())[0:200])"
   ]
  },
  {
   "cell_type": "markdown",
   "metadata": {},
   "source": [
    "### 3. 수프에서 필요한 데이터를 추출하기"
   ]
  },
  {
   "cell_type": "code",
   "execution_count": 10,
   "metadata": {},
   "outputs": [],
   "source": [
    "# 페이지를 먼저 눈으로 보면서 분석을 해보자.\n",
    "with open(\"dictionary.html\", 'w') as fp:\n",
    "  fp.write(page_soup.prettify())"
   ]
  },
  {
   "cell_type": "markdown",
   "metadata": {},
   "source": [
    "#### find_all, find로 원하는 데이터를 담은 soup 찾기"
   ]
  },
  {
   "cell_type": "code",
   "execution_count": 11,
   "metadata": {},
   "outputs": [
    {
     "data": {
      "text/plain": [
       "[<meta charset=\"utf-8\"/>,\n",
       " <meta content=\"text/html; charset=utf-8\" http-equiv=\"Content-Type\">\n",
       " <meta content=\"respect definition: 1. admiration felt or shown for someone or something that you believe has good ideas or qualities…. Learn more.\" name=\"description\"/>\n",
       " <meta content=\"respect definition, dictionary, english, british, american, business, british english, thesaurus, define respect, respect meaning, what is respect, spelling, conjugation, audio pronunciation, free, online, english.\" name=\"keywords\"/>\n",
       " <meta content=\"IE=edge\" http-equiv=\"X-UA-Compatible\"/>\n",
       " <meta content=\"width=device-width,minimum-scale=1,initial-scale=1\" name=\"viewport\"/>\n",
       " <script charset=\"UTF-8\" type=\"text/javascript\">\n",
       "             window.geofeed = function(geoFeedData) {\n",
       "                 window.geofeedData = geoFeedData;\n",
       " \n",
       "                 window.isGDPRMode = function() {\n",
       "                     return \"false\" === \"true\";\n",
       "                 };\n",
       " \n",
       "                 window.isCCPAMode = function() {\n",
       "                     return (geoFeedData.country == \"US\" && geoFeedData.state == \"CA\");\n",
       "                 };\n",
       " \n",
       "                 if (window.isCCPAMode()) {\n",
       "                     var otCCPAiab = document.createElement('script');\n",
       "                     otCCPAiab.setAttribute('src', 'https://cdn.cookielaw.org/opt-out/otCCPAiab.js');\n",
       "                     otCCPAiab.setAttribute('charset', 'UTF-8');\n",
       "                     otCCPAiab.setAttribute('ccpa-opt-out-ids', 'C0004');\n",
       "                     otCCPAiab.setAttribute('ccpa-opt-out-geo', 'ca');\n",
       "                     otCCPAiab.setAttribute('ccpa-opt-out-lspa', 'false');\n",
       "                     document.head.appendChild(otCCPAiab);\n",
       "                 }\n",
       "             };\n",
       "         </script>\n",
       " <script charset=\"UTF-8\" src=\"https://geolocation.onetrust.com/cookieconsentpub/v1/geo/location/geofeed\" type=\"text/javascript\"></script>\n",
       " <script charset=\"UTF-8\" data-domain-script=\"1be0fc8f-627a-4f3a-a13f-a4d11e467d2a\" data-ignore-ga=\"true\" src=\"https://cdn.cookielaw.org/scripttemplates/otSDKStub.js\" type=\"text/javascript\"></script>\n",
       " <script type=\"text/javascript\">\n",
       "             function OptanonWrapper() { }\n",
       "         </script>\n",
       " <meta content=\"app-id=1586255267\" name=\"apple-itunes-app\"/>\n",
       " <meta content=\"app-id=org.cambridge.cdo.plus\" name=\"google-play-app\"/>\n",
       " <meta content=\"https://dictionary.cambridge.org/dictionary/english/respect\" property=\"og:url\">\n",
       " <link href=\"https://dictionary.cambridge.org/dictionary/english/respect\" rel=\"canonical\"/>\n",
       " <link href=\"https://dictionary.cambridge.org/dictionary/english/respect\" hreflang=\"en\" rel=\"alternate\"/>\n",
       " <link href=\"https://dictionary.cambridge.org/us/dictionary/english/respect\" hreflang=\"en-US\" rel=\"alternate\"/>\n",
       " <link href=\"https://dictionary.cambridge.org/us/dictionary/english/respect\" hreflang=\"en-MX\" rel=\"alternate\"/>\n",
       " <link href=\"https://dictionary.cambridge.org/us/dictionary/english/respect\" hreflang=\"en-PH\" rel=\"alternate\"/>\n",
       " <link href=\"https://dictionary.cambridge.org/us/dictionary/english/respect\" hreflang=\"en-BR\" rel=\"alternate\"/>\n",
       " <link href=\"https://dictionary.cambridge.org/us/dictionary/english/respect\" hreflang=\"en-CO\" rel=\"alternate\"/>\n",
       " <link href=\"https://dictionary.cambridge.org/es/diccionario/ingles/respect\" hreflang=\"es\" rel=\"alternate\"/>\n",
       " <link href=\"https://dictionary.cambridge.org/es/diccionario/ingles/respect\" hreflang=\"es-ES\" rel=\"alternate\"/>\n",
       " <link href=\"https://dictionary.cambridge.org/es-LA/dictionary/english/respect\" hreflang=\"es-419\" rel=\"alternate\"/>\n",
       " <link href=\"https://dictionary.cambridge.org/ru/%D1%81%D0%BB%D0%BE%D0%B2%D0%B0%D1%80%D1%8C/%D0%B0%D0%BD%D0%B3%D0%BB%D0%B8%D0%B9%D1%81%D0%BA%D0%B8%D0%B9/respect\" hreflang=\"ru\" rel=\"alternate\"/>\n",
       " <link href=\"https://dictionary.cambridge.org/pt/dicionario/ingles/respect\" hreflang=\"pt\" rel=\"alternate\"/>\n",
       " <link href=\"https://dictionary.cambridge.org/pt/dicionario/ingles/respect\" hreflang=\"pt-BR\" rel=\"alternate\"/>\n",
       " <link href=\"https://dictionary.cambridge.org/de/worterbuch/englisch/respect\" hreflang=\"de\" rel=\"alternate\"/>\n",
       " <link href=\"https://dictionary.cambridge.org/fr/dictionnaire/anglais/respect\" hreflang=\"fr\" rel=\"alternate\"/>\n",
       " <link href=\"https://dictionary.cambridge.org/it/dizionario/inglese/respect\" hreflang=\"it\" rel=\"alternate\"/>\n",
       " <link href=\"https://dictionary.cambridge.org/zhs/%E8%AF%8D%E5%85%B8/%E8%8B%B1%E8%AF%AD/respect\" hreflang=\"zh-Hans\" rel=\"alternate\"/>\n",
       " <link href=\"https://dictionary.cambridge.org/zht/%E8%A9%9E%E5%85%B8/%E8%8B%B1%E8%AA%9E/respect\" hreflang=\"zh-Hant\" rel=\"alternate\"/>\n",
       " <link href=\"https://dictionary.cambridge.org/pl/dictionary/english/respect\" hreflang=\"pl\" rel=\"alternate\"/>\n",
       " <link href=\"https://dictionary.cambridge.org/ko/%EC%82%AC%EC%A0%84/%EC%98%81%EC%96%B4/respect\" hreflang=\"ko\" rel=\"alternate\"/>\n",
       " <link href=\"https://dictionary.cambridge.org/tr/s%C3%B6zl%C3%BCk/ingilizce/respect\" hreflang=\"tr\" rel=\"alternate\"/>\n",
       " <link href=\"https://dictionary.cambridge.org/ja/dictionary/english/respect\" hreflang=\"ja\" rel=\"alternate\"/>\n",
       " <link href=\"https://dictionary.cambridge.org/vi/dictionary/english/respect\" hreflang=\"vi\" rel=\"alternate\"/>\n",
       " <meta content=\"lg0qcRkaLtMeKJcXsOLoptzK-2MIRJzuEtiYHZf_O2Y\" name=\"google-site-verification\"/>\n",
       " <link href=\"https://dictionary.cambridge.org/external/images/favicon.ico?version=5.0.243\" rel=\"shortcut icon\" type=\"image/x-icon\"/>\n",
       " <link href=\"https://dictionary.cambridge.org/external/images/apple-touch-icon-precomposed.png?version=5.0.243\" rel=\"apple-touch-icon-precomposed\" type=\"image/x-icon\"/>\n",
       " <link as=\"font\" crossorigin=\"\" href=\"/external/fonts/cdoicons.woff?version=5.0.243\" rel=\"preload\"/>\n",
       " <meta content=\"respect\" property=\"og:title\"/>\n",
       " <meta content=\"1. admiration felt or shown for someone or something that you believe has good…\" property=\"og:description\"/>\n",
       " <meta content=\"https://dictionary.cambridge.org/external/images/og-image.png\" property=\"og:image\"/>\n",
       " <meta content=\"article\" property=\"og:type\"/>\n",
       " <meta content=\"118775618133878\" property=\"fb:app_id\"/>\n",
       " <meta content=\"summary\" property=\"twitter:card\"/>\n",
       " <meta content=\"@CambridgeWords\" property=\"twitter:site\"/>\n",
       " <link href=\"https://securepubads.g.doubleclick.net\" rel=\"preconnect\"/>\n",
       " <link href=\"https://c2shb.ssp.yahoo.com\" rel=\"preconnect\"/>\n",
       " <link href=\"https://ib.adnxs.com\" rel=\"preconnect\"/>\n",
       " <link href=\"https://bidder.criteo.com\" rel=\"preconnect\"/>\n",
       " <link href=\"https://as-sec.casalemedia.com\" rel=\"preconnect\"/>\n",
       " <link href=\"https://idm-d.openx.net\" rel=\"preconnect\"/>\n",
       " <link href=\"https://hbopenbid.pubmatic.com\" rel=\"preconnect\"/>\n",
       " <link href=\"https://fastlane.rubiconproject.com\" rel=\"preconnect\"/>\n",
       " <link href=\"https://ap.lijit.com\" rel=\"preconnect\"/>\n",
       " <link href=\"https://tlx.3lift.com\" rel=\"preconnect\"/>\n",
       " <link href=\"https://script.4dex.io\" rel=\"preconnect\"/>\n",
       " <link href=\"https://a.teads.tv\" rel=\"preconnect\"/>\n",
       " <script defer=\"\" src=\"https://securepubads.g.doubleclick.net/tag/js/gpt.js\" type=\"text/javascript\"></script>\n",
       " <script defer=\"\" src=\"/external/scripts/pb-cdo.min.js?version=5.0.243\" type=\"text/javascript\"></script>\n",
       " <link as=\"script\" href=\"https://www.google-analytics.com/analytics.js\" rel=\"preload\">\n",
       " <link href=\"/adserver.css?version=5.0.243\" rel=\"stylesheet\" type=\"text/css\">\n",
       " <script async=\"\" src=\"https://cdn.ampproject.org/v0.js\"></script>\n",
       " <script async=\"\" custom-element=\"amp-bind\" src=\"https://cdn.ampproject.org/v0/amp-bind-0.1.js\"></script>\n",
       " <script async=\"\" custom-element=\"amp-form\" src=\"https://cdn.ampproject.org/v0/amp-form-0.1.js\"></script>\n",
       " <script async=\"\" custom-element=\"amp-sidebar\" src=\"https://cdn.ampproject.org/v0/amp-sidebar-0.1.js\"></script>\n",
       " <script async=\"\" custom-element=\"amp-accordion\" src=\"https://cdn.ampproject.org/v0/amp-accordion-0.1.js\"></script>\n",
       " <script async=\"\" custom-element=\"amp-list\" src=\"https://cdn.ampproject.org/v0/amp-list-0.1.js\"></script>\n",
       " <script async=\"\" custom-template=\"amp-mustache\" src=\"https://cdn.ampproject.org/v0/amp-mustache-0.2.js\"></script>\n",
       " <script async=\"\" custom-element=\"amp-access\" src=\"https://cdn.ampproject.org/v0/amp-access-0.1.js\"></script>\n",
       " <script async=\"\" custom-element=\"amp-user-notification\" src=\"https://cdn.ampproject.org/v0/amp-user-notification-0.1.js\"></script>\n",
       " <script async=\"\" custom-element=\"amp-audio\" src=\"https://cdn.ampproject.org/v0/amp-audio-0.1.js\"></script>\n",
       " <script type=\"text/javascript\">\n",
       " function readCookie(name) {\n",
       "     var nameEQ = name + \"=\";\n",
       "     var ca = document.cookie.split(';');\n",
       "     for ( var i = 0; i < ca.length; i++) {\n",
       "         var c = ca[i];\n",
       "         while (c.charAt(0) == ' ')\n",
       "             c = c.substring(1, c.length);\n",
       "         if (c.indexOf(nameEQ) == 0)\n",
       "             return c.substring(nameEQ.length, c.length);\n",
       "     }\n",
       "     return null;\n",
       " }\n",
       " \n",
       " var pl_did = readCookie(\"pl_did\");\n",
       " var pl_p = localStorage.pl;\n",
       " </script> <script type=\"text/javascript\">\n",
       "     //<![CDATA[\n",
       "         var iaw = iaw || {};\n",
       "         iaw.que = iaw.que || [];\n",
       "         iaw.cmd = iaw.cmd || [];\n",
       "         iaw.que.push(function() {\n",
       "             iaw.setPageLabels([ \"lcp\", \"resp\", \"wprod\" ]);\n",
       "             iaw.setPageLayout(\"default_moreslots\");\n",
       " \n",
       "             var pageCriteria = { \"pc\": \"dictionary\", \"pt\": \"entry\", \"sfr\": \"cdo_dict_english\", \"ptl\": \"entry-lcp\", \"dc\": \"english\", \"ei\": \"respect\", \"c\": [ \"people_society_religion\", \"sports_sporting_goods\", \"arts_entertainment_media\", \"jobs_education_resumes\", \"law_government_military\" ], \"t\": \"people\", \"l\": \"en\", \"tc\": \"resp\" };\n",
       "             if(pl_p) pageCriteria.alc_pr = pl_p.split(\",\");\n",
       " \n",
       "             iaw.setPageCriteria(pageCriteria);\n",
       "             iaw.setDfpCollapseEmptyDivs(false);\n",
       " \n",
       "             iaw.setCountry(\"KR\");\n",
       "                         iaw.enableBlockthrough();\n",
       " \n",
       "                             iaw.setParallaxSlots([ \"ad_contentslot_1\", \"ad_contentslot_2\", \"ad_contentslot_3\" ]);\n",
       "                 iaw.setExtraAdSlots([ \"ad_contentslot_1\", \"ad_contentslot_2\", \"ad_contentslot_3\" ]);\n",
       "                         iaw.enableAdSlotRefresher();\n",
       "         });\n",
       "     //]]>\n",
       "     </script>\n",
       " <script defer=\"\" src=\"/iaw.min.js?version=5.0.243\" type=\"text/javascript\"></script>\n",
       " <script>\n",
       "                 (function(h,o,t,j,a,r){\n",
       "                     h.hj=h.hj||function(){(h.hj.q=h.hj.q||[]).push(arguments)};\n",
       "                     h._hjSettings={hjid:2790984,hjsv:6};\n",
       "                     a=o.getElementsByTagName('head')[0];\n",
       "                     r=o.createElement('script');r.async=1;\n",
       "                     r.src=t+h._hjSettings.hjid+j+h._hjSettings.hjsv;\n",
       "                     a.appendChild(r);\n",
       "                 })(window,document,'https://static.hotjar.com/c/hotjar-','.js?sv=');\n",
       "             </script>\n",
       " <script id=\"amp-access\" type=\"application/json\">\n",
       "         {\n",
       "             \"authorization\": \"https://dictionary.cambridge.org/auth/info?rid=READER_ID&url=CANONICAL_URL&ref=DOCUMENT_REFERRER&type=ENTRY_TRANSLATE&v1=english&v2=respect&v3=&v4=english&_=RANDOM\",\n",
       "             \"noPingback\": true,\n",
       "             \"login\": {\n",
       "                 \"sign-in\": \"https://dictionary.cambridge.org/auth/signin?rid=READER_ID\",\n",
       "                 \"sign-up\": \"https://dictionary.cambridge.org/auth/signup?rid=READER_ID\",\n",
       "                 \"sign-out\": \"https://dictionary.cambridge.org/auth/signout?rid=READER_ID\"\n",
       "             },\n",
       "             \"authorizationFallbackResponse\": {\n",
       "                 \"error\": true,\n",
       "                 \"loggedIn\": false\n",
       "             },\n",
       "             \"authorizationTimeout\": 10000\n",
       "         }\n",
       "     </script>\n",
       " <script type=\"text/javascript\">\n",
       "       window.ga=window.ga||function(){(ga.q=ga.q||[]).push(arguments)};ga.l=+new Date;\n",
       " \n",
       "       ga('create', 'UA-31379-3',{cookieDomain:'dictionary.cambridge.org',siteSpeedSampleRate: 10});\n",
       "             ga('set', 'anonymizeIp', true);\n",
       " \n",
       "       ga('require', 'displayfeatures');\n",
       "       \n",
       "                           ga('set', 'dimension2', \"entryex\");\n",
       "                             ga('set', 'dimension3', \"default\");\n",
       "                     ga('send', 'pageview');\n",
       "       \n",
       "             \n",
       "       if(typeof iaw !== 'undefined') {\n",
       "         iaw.que.push(function() {\n",
       "           iaw.setGA(ga);\n",
       "         });\n",
       "       }\n",
       "     </script>\n",
       " <script async=\"\" src=\"https://www.google-analytics.com/analytics.js\"></script>\n",
       " </link></link></meta></meta>,\n",
       " <meta content=\"respect definition: 1. admiration felt or shown for someone or something that you believe has good ideas or qualities…. Learn more.\" name=\"description\"/>,\n",
       " <meta content=\"respect definition, dictionary, english, british, american, business, british english, thesaurus, define respect, respect meaning, what is respect, spelling, conjugation, audio pronunciation, free, online, english.\" name=\"keywords\"/>,\n",
       " <meta content=\"IE=edge\" http-equiv=\"X-UA-Compatible\"/>]"
      ]
     },
     "execution_count": 11,
     "metadata": {},
     "output_type": "execute_result"
    }
   ],
   "source": [
    "# soup의 find_all은 조건에 맞는 모든 하위 soup를 찾는다.\n",
    "meta_soup_list = page_soup.find_all('meta')\n",
    "\n",
    "meta_soup_list[0:5]"
   ]
  },
  {
   "cell_type": "code",
   "execution_count": 12,
   "metadata": {},
   "outputs": [
    {
     "data": {
      "text/plain": [
       "[<a class=\"hdib lpb-5 lpt-1\" href=\"/\" title=\"Cambridge Dictionary\">\n",
       " <amp-img alt=\"Cambridge Dictionary\" height=\"30\" noloading=\"\" src=\"/external/images/logo-lrg-small.png?version=5.0.243\" width=\"95\"></amp-img>\n",
       " <noscript>\n",
       " <img alt=\"Cambridge Dictionary\" class=\"lpb-5\" height=\"30\" src=\"/external/images/logo-lrg-small.png?version=5.0.243\" width=\"95\"/>\n",
       " </noscript>\n",
       " </a>,\n",
       " <a class=\"hdb lpt-10 lpb-10 lmr-25 vh-a\" href=\"/dictionary/\"><span class=\"hdib lpt-2\">Dictionary</span></a>,\n",
       " <a class=\"hdb hao lpt-10 lpb-10 lmr-25\" href=\"/translate/\"><span class=\"hdib lpt-2\">Translate</span></a>,\n",
       " <a class=\"hdb hao lpt-10 lpb-10 lmr-25\" href=\"/grammar/british-grammar/\"><span class=\"hdib lpt-2\">Grammar</span></a>,\n",
       " <a class=\"hdb hao lpt-10 lpb-10 lmr-25\" href=\"/thesaurus/\"><span class=\"hdib lpt-2\">Thesaurus</span></a>]"
      ]
     },
     "execution_count": 12,
     "metadata": {},
     "output_type": "execute_result"
    }
   ],
   "source": [
    "# 개수에 제한을 걸 수 있다.\n",
    "meta_soup_limited_list = page_soup.find_all('a', limit=5)\n",
    "meta_soup_limited_list"
   ]
  },
  {
   "cell_type": "code",
   "execution_count": 13,
   "metadata": {},
   "outputs": [
    {
     "data": {
      "text/plain": [
       "[]"
      ]
     },
     "execution_count": 13,
     "metadata": {},
     "output_type": "execute_result"
    }
   ],
   "source": [
    "# find_all의 recursive 인수에 False를 넣으면 직계가 아닌, 손자 soup들은 찾지 않는다.\n",
    "\n",
    "all_div_limited_list = page_soup.find_all('a', limit=5, recursive=False)\n",
    "all_div_limited_list"
   ]
  },
  {
   "cell_type": "code",
   "execution_count": 14,
   "metadata": {},
   "outputs": [
    {
     "data": {
      "text/plain": [
       "<a class=\"hdib lpb-5 lpt-1\" href=\"/\" title=\"Cambridge Dictionary\">\n",
       "<amp-img alt=\"Cambridge Dictionary\" height=\"30\" noloading=\"\" src=\"/external/images/logo-lrg-small.png?version=5.0.243\" width=\"95\"></amp-img>\n",
       "<noscript>\n",
       "<img alt=\"Cambridge Dictionary\" class=\"lpb-5\" height=\"30\" src=\"/external/images/logo-lrg-small.png?version=5.0.243\" width=\"95\"/>\n",
       "</noscript>\n",
       "</a>"
      ]
     },
     "execution_count": 14,
     "metadata": {},
     "output_type": "execute_result"
    }
   ],
   "source": [
    "# find는 find_all의 가장 첫번쨰 한개 찾기 버전이다.\n",
    "a_soup = page_soup.find('a')\n",
    "a_soup"
   ]
  },
  {
   "cell_type": "code",
   "execution_count": 15,
   "metadata": {},
   "outputs": [],
   "source": [
    "# find가 결과를 찾지 못하면 None을 리턴한다.\n",
    "fail_soup = page_soup.find('tbody')\n",
    "fail_soup"
   ]
  },
  {
   "cell_type": "code",
   "execution_count": 16,
   "metadata": {},
   "outputs": [
    {
     "data": {
      "text/plain": [
       "<div class=\"hfl\">\n",
       "<div class=\"hdib hv-3 lpt-15 lpl-15 lpr-15 lp-l_l-25\">\n",
       "<span aria-label=\"Open site navigation panel\" class=\"cb hao lpt-2 hp\" on=\"tap:AMP.setState({ stateSearch: { autocomplete: false } }), sidebarNav.open\" role=\"button\" tabindex=\"0\"><i></i></span>\n",
       "</div>\n",
       "<div class=\"hdib hvt hao tc-bd lpt-10 lpb-2 lpr-15 lbr-s lb-ch\">\n",
       "<a class=\"hdib lpb-5 lpt-1\" href=\"/\" title=\"Cambridge Dictionary\">\n",
       "<amp-img alt=\"Cambridge Dictionary\" height=\"30\" noloading=\"\" src=\"/external/images/logo-lrg-small.png?version=5.0.243\" width=\"95\"></amp-img>\n",
       "<noscript>\n",
       "<img alt=\"Cambridge Dictionary\" class=\"lpb-5\" height=\"30\" src=\"/external/images/logo-lrg-small.png?version=5.0.243\" width=\"95\"/>\n",
       "</noscript>\n",
       "</a>\n",
       "</div>\n",
       "</div>"
      ]
     },
     "execution_count": 16,
     "metadata": {},
     "output_type": "execute_result"
    }
   ],
   "source": [
    "# find 대신 태그명들을 다음처럼 참조해서 조건을 맞춘 첫 번째 soup를 얻을 수도 있다.\n",
    "page_soup.header.div.div.div"
   ]
  },
  {
   "cell_type": "markdown",
   "metadata": {},
   "source": [
    "#### find_parents, find_parent, find_next_siblings, find_next_sibling, find_prev_sibling, find_prev_siblings"
   ]
  },
  {
   "cell_type": "code",
   "execution_count": 17,
   "metadata": {},
   "outputs": [
    {
     "name": "stdout",
     "output_type": "stream",
     "text": [
      "<div class=\"hfl\">\n",
      " <div class=\"hdib hv-3 lpt-15 lpl-15 lpr-15 lp-l_l-25\">\n",
      "  <span aria-label=\"Open site navigation panel\" class=\"cb hao lpt-2 hp\" on=\"tap:AMP.setState({ stateSearch: { autocomplete: false } }), sidebarNav.open\" role=\"button\" tabindex=\"0\">\n",
      "   <i>\n",
      "   </i>\n",
      "  </span>\n",
      " </div>\n",
      " <div class=\"hdib hvt hao tc-bd lpt-10 lpb-2 lpr-15 lbr-s lb-ch\">\n",
      "  <a class=\"hdib lpb-5 lpt-1\" href=\"/\" title=\"Cambridge Dictionary\">\n",
      "   <amp-img alt=\"Cambridge Dictionary\" height=\"30\" noloading=\"\" src=\"/external/images/logo-lrg-small.png?version=5.0.243\" width=\"95\">\n",
      "   </amp-img>\n",
      "   <noscript>\n",
      "    <img alt=\"Cambridge Dictionary\" class=\"lpb-5\" height=\"30\" src=\"/external/images/logo-lrg-small.png?version=5.0.243\" width=\"95\"/>\n",
      "   </noscript>\n",
      "  </a>\n",
      " </div>\n",
      "</div>\n",
      "\n"
     ]
    }
   ],
   "source": [
    "# 임의의 soup 하나를 받아옴\n",
    "some_soup = page_soup.html.body.header.div.div.div\n",
    "print (some_soup.prettify())"
   ]
  },
  {
   "cell_type": "code",
   "execution_count": 18,
   "metadata": {},
   "outputs": [
    {
     "data": {
      "text/plain": [
       "6"
      ]
     },
     "execution_count": 18,
     "metadata": {},
     "output_type": "execute_result"
    }
   ],
   "source": [
    "# find_parents는 그 soup의 부모부터 시작해서 올라가는 족보를 전부 찾는 함수이다.\n",
    "parents_soup = some_soup.find_parents()\n",
    "\n",
    "# document 전체, html, body, header, div, div 총 6개의 soup가 결과가 된다.\n",
    "len(parents_soup)"
   ]
  },
  {
   "cell_type": "code",
   "execution_count": 19,
   "metadata": {},
   "outputs": [
    {
     "name": "stdout",
     "output_type": "stream",
     "text": [
      "<div class=\"hoh flx-w_no\">\n",
      " <div class=\"hfl\">\n",
      "  <div class=\"hdib hv-3 lpt-15 lpl-15 lpr-15 lp-l_l-25\">\n",
      "   <span aria-label=\"Open site navigation panel\" class=\"cb hao lpt-2 hp\" on=\"tap:AMP.setState({ stateSearch: { autocomplete: false } }), sidebarNav.open\" role=\"button\" tabindex=\"0\">\n",
      "    <i>\n",
      "    </i>\n",
      "   </span>\n",
      "  </div>\n",
      "  <div class=\"hdib hvt hao tc-bd lpt-10 lpb-2 lpr-15 lbr-s lb-ch\">\n",
      "   <a class=\"hdib lpb-5 lpt-1\" href=\"/\" title=\"Cambridge Dictionary\">\n",
      "    <amp-img alt=\"Cambridge Dictionary\" height=\"30\" noloading=\"\" src=\"/external/images/logo-lrg-small.png?version=5.0.243\" width=\"95\">\n",
      "    </amp-img>\n",
      "    <noscript>\n",
      "     <img alt=\"Cambridge Dictionary\" class=\"lpb-5\" height=\"30\" src=\"/external/images/logo-lrg-small.png?version=5.0.243\" width=\"95\"/>\n",
      "    </noscript>\n",
      "   </a>\n",
      "  </div>\n",
      " </div>\n",
      " <nav class=\"chn hoh hdn hdb-s fs14\" id=\"main-nav\">\n",
      "  <ul class=\"hul-u hul-u0 hax hvt tb lmb-0 lml-10\">\n",
      "   <li class=\"hdib\">\n",
      "    <a class=\"hdb lpt-10 lpb-10 lmr-25 vh-a\" href=\"/dictionary/\">\n",
      "     <span class=\"hdib lpt-2\">\n",
      "      Dictionary\n",
      "     </span>\n",
      "    </a>\n",
      "   </li>\n",
      "   <li class=\"hdib\">\n",
      "    <a class=\"hdb hao lpt-10 lpb-10 lmr-25\" href=\"/translate/\">\n",
      "     <span class=\"hdib lpt-2\">\n",
      "      Translate\n",
      "     </span>\n",
      "    </a>\n",
      "   </li>\n",
      "   <li class=\"hdib\">\n",
      "    <a class=\"hdb hao lpt-10 lpb-10 lmr-25\" href=\"/grammar/british-grammar/\">\n",
      "     <span class=\"hdib lpt-2\">\n",
      "      Grammar\n",
      "     </span>\n",
      "    </a>\n",
      "   </li>\n",
      "   <li class=\"hdib\">\n",
      "    <a class=\"hdb hao lpt-10 lpb-10 lmr-25\" href=\"/thesaurus/\">\n",
      "     <span class=\"hdib lpt-2\">\n",
      "      Thesaurus\n",
      "     </span>\n",
      "    </a>\n",
      "   </li>\n",
      "   <li class=\"hdib\">\n",
      "    <a class=\"hdb hao lpt-10 lpb-10\" href=\"/plus/\">\n",
      "     <span class=\"hdib lpt-2\" id=\"plus-s\">\n",
      "      +Plus\n",
      "     </span>\n",
      "     <span class=\"hdn lpt-2\" id=\"plus-w\">\n",
      "      Cambridge Dictionary +Plus\n",
      "     </span>\n",
      "    </a>\n",
      "   </li>\n",
      "  </ul>\n",
      " </nav>\n",
      "</div>\n",
      "\n"
     ]
    }
   ],
   "source": [
    "# find_parent는 그 soup의 부모만 전부 찾는 함수이다.\n",
    "parent_soup = some_soup.find_parent()\n",
    "print (parent_soup.prettify())"
   ]
  },
  {
   "cell_type": "code",
   "execution_count": 20,
   "metadata": {},
   "outputs": [
    {
     "name": "stdout",
     "output_type": "stream",
     "text": [
      "<nav class=\"chn hoh hdn hdb-s fs14\" id=\"main-nav\">\n",
      " <ul class=\"hul-u hul-u0 hax hvt tb lmb-0 lml-10\">\n",
      "  <li class=\"hdib\">\n",
      "   <a class=\"hdb lpt-10 lpb-10 lmr-25 vh-a\" href=\"/dictionary/\">\n",
      "    <span class=\"hdib lpt-2\">\n",
      "     Dictionary\n",
      "    </span>\n",
      "   </a>\n",
      "  </li>\n",
      "  <li class=\"hdib\">\n",
      "   <a class=\"hdb hao lpt-10 lpb-10 lmr-25\" href=\"/translate/\">\n",
      "    <span class=\"hdib lpt-2\">\n",
      "     Translate\n",
      "    </span>\n",
      "   </a>\n",
      "  </li>\n",
      "  <li class=\"hdib\">\n",
      "   <a class=\"hdb hao lpt-10 lpb-10 lmr-25\" href=\"/grammar/british-grammar/\">\n",
      "    <span class=\"hdib lpt-2\">\n",
      "     Grammar\n",
      "    </span>\n",
      "   </a>\n",
      "  </li>\n",
      "  <li class=\"hdib\">\n",
      "   <a class=\"hdb hao lpt-10 lpb-10 lmr-25\" href=\"/thesaurus/\">\n",
      "    <span class=\"hdib lpt-2\">\n",
      "     Thesaurus\n",
      "    </span>\n",
      "   </a>\n",
      "  </li>\n",
      "  <li class=\"hdib\">\n",
      "   <a class=\"hdb hao lpt-10 lpb-10\" href=\"/plus/\">\n",
      "    <span class=\"hdib lpt-2\" id=\"plus-s\">\n",
      "     +Plus\n",
      "    </span>\n",
      "    <span class=\"hdn lpt-2\" id=\"plus-w\">\n",
      "     Cambridge Dictionary +Plus\n",
      "    </span>\n",
      "   </a>\n",
      "  </li>\n",
      " </ul>\n",
      "</nav>\n",
      "\n"
     ]
    }
   ],
   "source": [
    "# find_next_siblings는 같은 부모를 공유하는 노드들 중 자신보다 뒤에 있는 노드들을 찾아낸다.\n",
    "# find_next_sibling은 한개짜리 버전이다.\n",
    "next_sibling_soup = some_soup.find_next_sibling()\n",
    "print (next_sibling_soup.prettify())"
   ]
  },
  {
   "cell_type": "code",
   "execution_count": 21,
   "metadata": {},
   "outputs": [
    {
     "name": "stdout",
     "output_type": "stream",
     "text": [
      "[]\n"
     ]
    }
   ],
   "source": [
    "# find_prev_siblings는 같은 부모를 공유하는 노드들 중 자신보다 전에 있는 노드들을 찾아낸다.\n",
    "# find_prev_sibling은 한개짜리 버전이다.\n",
    "\n",
    "prev_sibling_soups = some_soup.find_previous_siblings()\n",
    "print (prev_sibling_soups)"
   ]
  },
  {
   "cell_type": "markdown",
   "metadata": {},
   "source": [
    "#### attributes를 이용해서 soup에서 찾기"
   ]
  },
  {
   "cell_type": "code",
   "execution_count": 22,
   "metadata": {},
   "outputs": [
    {
     "data": {
      "text/plain": [
       "{'class': ['hdib', 'lpb-5', 'lpt-1'],\n",
       " 'href': '/',\n",
       " 'title': 'Cambridge Dictionary'}"
      ]
     },
     "execution_count": 22,
     "metadata": {},
     "output_type": "execute_result"
    }
   ],
   "source": [
    "# 각 노드가 가지는 id, class, href 등을 우리는 \"attributes\"라고 부르고, attrs로 줄여쓴다.\n",
    "page_soup.a.attrs\n"
   ]
  },
  {
   "cell_type": "code",
   "execution_count": 23,
   "metadata": {},
   "outputs": [
    {
     "data": {
      "text/plain": [
       "['/']"
      ]
     },
     "execution_count": 23,
     "metadata": {},
     "output_type": "execute_result"
    }
   ],
   "source": [
    "# soup의 특정 attribute는 다음 함수로 찾을 수 있다.\n",
    "page_soup.a.get_attribute_list('href')"
   ]
  },
  {
   "cell_type": "code",
   "execution_count": 24,
   "metadata": {},
   "outputs": [
    {
     "data": {
      "text/plain": [
       "[<nav class=\"chn hoh hdn hdb-s fs14\" id=\"main-nav\">\n",
       " <ul class=\"hul-u hul-u0 hax hvt tb lmb-0 lml-10\">\n",
       " <li class=\"hdib\"><a class=\"hdb lpt-10 lpb-10 lmr-25 vh-a\" href=\"/dictionary/\"><span class=\"hdib lpt-2\">Dictionary</span></a></li>\n",
       " <li class=\"hdib\"><a class=\"hdb hao lpt-10 lpb-10 lmr-25\" href=\"/translate/\"><span class=\"hdib lpt-2\">Translate</span></a></li>\n",
       " <li class=\"hdib\"><a class=\"hdb hao lpt-10 lpb-10 lmr-25\" href=\"/grammar/british-grammar/\"><span class=\"hdib lpt-2\">Grammar</span></a></li>\n",
       " <li class=\"hdib\"><a class=\"hdb hao lpt-10 lpb-10 lmr-25\" href=\"/thesaurus/\"><span class=\"hdib lpt-2\">Thesaurus</span></a></li>\n",
       " <li class=\"hdib\">\n",
       " <a class=\"hdb hao lpt-10 lpb-10\" href=\"/plus/\">\n",
       " <span class=\"hdib lpt-2\" id=\"plus-s\">+Plus</span>\n",
       " <span class=\"hdn lpt-2\" id=\"plus-w\">Cambridge Dictionary +Plus</span>\n",
       " </a>\n",
       " </li>\n",
       " </ul>\n",
       " </nav>]"
      ]
     },
     "execution_count": 24,
     "metadata": {},
     "output_type": "execute_result"
    }
   ],
   "source": [
    "# find에 응용하여 특정 attributes를 가지는 것을 다음 방법으로 찾을 수 있다.\n",
    "page_soup.find_all(attrs={ \"id\": \"main-nav\" })"
   ]
  },
  {
   "cell_type": "code",
   "execution_count": 25,
   "metadata": {},
   "outputs": [
    {
     "data": {
      "text/plain": [
       "[<amp-img alt=\"Cambridge Dictionary\" height=\"30\" noloading=\"\" src=\"/external/images/logo-lrg-small.png?version=5.0.243\" width=\"95\"></amp-img>,\n",
       " <img alt=\"Cambridge Dictionary\" class=\"lpb-5\" height=\"30\" src=\"/external/images/logo-lrg-small.png?version=5.0.243\" width=\"95\"/>,\n",
       " <amp-img alt=\"Cambridge Dictionary\" height=\"30\" src=\"/external/images/logo-lrg-small.png?version=5.0.243\" width=\"95\"></amp-img>,\n",
       " <img alt=\"Cambridge Dictionary\" class=\"lpb-5\" height=\"30\" src=\"/external/images/logo-lrg-small.png?version=5.0.243\" width=\"95\"/>]"
      ]
     },
     "execution_count": 25,
     "metadata": {},
     "output_type": "execute_result"
    }
   ],
   "source": [
    "page_soup.find_all(attrs={ \"src\": \"/external/images/logo-lrg-small.png?version=5.0.243\" })"
   ]
  },
  {
   "cell_type": "code",
   "execution_count": 26,
   "metadata": {},
   "outputs": [
    {
     "data": {
      "text/plain": [
       "<nav class=\"chn hoh hdn hdb-s fs14\" id=\"main-nav\">\n",
       "<ul class=\"hul-u hul-u0 hax hvt tb lmb-0 lml-10\">\n",
       "<li class=\"hdib\"><a class=\"hdb lpt-10 lpb-10 lmr-25 vh-a\" href=\"/dictionary/\"><span class=\"hdib lpt-2\">Dictionary</span></a></li>\n",
       "<li class=\"hdib\"><a class=\"hdb hao lpt-10 lpb-10 lmr-25\" href=\"/translate/\"><span class=\"hdib lpt-2\">Translate</span></a></li>\n",
       "<li class=\"hdib\"><a class=\"hdb hao lpt-10 lpb-10 lmr-25\" href=\"/grammar/british-grammar/\"><span class=\"hdib lpt-2\">Grammar</span></a></li>\n",
       "<li class=\"hdib\"><a class=\"hdb hao lpt-10 lpb-10 lmr-25\" href=\"/thesaurus/\"><span class=\"hdib lpt-2\">Thesaurus</span></a></li>\n",
       "<li class=\"hdib\">\n",
       "<a class=\"hdb hao lpt-10 lpb-10\" href=\"/plus/\">\n",
       "<span class=\"hdib lpt-2\" id=\"plus-s\">+Plus</span>\n",
       "<span class=\"hdn lpt-2\" id=\"plus-w\">Cambridge Dictionary +Plus</span>\n",
       "</a>\n",
       "</li>\n",
       "</ul>\n",
       "</nav>"
      ]
     },
     "execution_count": 26,
     "metadata": {},
     "output_type": "execute_result"
    }
   ],
   "source": [
    "# attrs를 직접 인수로 넣어도 같은 동작을 한다.\n",
    "page_soup.find(id='main-nav')"
   ]
  },
  {
   "cell_type": "code",
   "execution_count": 27,
   "metadata": {},
   "outputs": [
    {
     "data": {
      "text/plain": [
       "<span class=\"headword hdb tw-bw dhw dpos-h_hw\"><span class=\"hw dhw\">respect</span></span>"
      ]
     },
     "execution_count": 27,
     "metadata": {},
     "output_type": "execute_result"
    }
   ],
   "source": [
    "# class의 경우 python의 예약어이기 때문에 특별히 다음과 같이 다른 인수를 사용한다.\n",
    "page_soup.find(class_='dhw')"
   ]
  },
  {
   "cell_type": "markdown",
   "metadata": {},
   "source": [
    "#### select를 사용하여 원하는 데이터를 담은 soup 찾기"
   ]
  },
  {
   "cell_type": "code",
   "execution_count": 28,
   "metadata": {},
   "outputs": [
    {
     "name": "stdout",
     "output_type": "stream",
     "text": [
      "3\n"
     ]
    }
   ],
   "source": [
    "# select는 CSS Selector 방식으로 soup를 찾는 함수이다.\n",
    "# 참고: https://www.w3schools.com/cssref/css_selectors.asp\n",
    "need_soups = page_soup.select('div.di-body')\n",
    "\n",
    "print (len(need_soups))"
   ]
  },
  {
   "cell_type": "code",
   "execution_count": 29,
   "metadata": {},
   "outputs": [
    {
     "name": "stdout",
     "output_type": "stream",
     "text": [
      "<div class=\"di-body\">\n",
      " <div class=\"entry\">\n",
      "  <div class=\"entry-body\">\n",
      "   <div class=\"pr entry-body__el\">\n",
      "    <div class=\"cid\" id=\"cald4-1\">\n",
      "    </div>\n",
      "    <div class=\"pos-header dpos-h\">\n",
      "     <div class=\"di-title\">\n",
      "      <span class=\"headword hdb tw-bw dhw dpos-h_hw\">\n",
      "       <span class=\"hw dhw\">\n",
      "        respect\n",
      "       </span>\n",
      "      </span>\n",
      "     </div>\n",
      "     <div class=\"posgram dpos-g hdib lmr-5\">\n",
      " \n",
      "...\n"
     ]
    }
   ],
   "source": [
    "# select_one 함수는 select의 한개 찾기 버전이다.\n",
    "need_soup = page_soup.select_one('div.di-body')\n",
    "\n",
    "print (need_soup.prettify()[0:400], \"\\n...\")"
   ]
  },
  {
   "cell_type": "code",
   "execution_count": 30,
   "metadata": {},
   "outputs": [
    {
     "data": {
      "text/plain": [
       "[<span class=\"hw dhw\">respect</span>,\n",
       " <span class=\"hw dhw\">respect</span>,\n",
       " <span class=\"hw dhw\">respect</span>,\n",
       " <span class=\"hw dhw\">respect</span>,\n",
       " <span class=\"hw dhw\">respect</span>]"
      ]
     },
     "execution_count": 30,
     "metadata": {},
     "output_type": "execute_result"
    }
   ],
   "source": [
    "# 원하는 데이터가 담긴 soup를 다음처럼 찾을 수 있다.\n",
    "page_soup.select(\"html > body div.di-body span.hw.dhw\")"
   ]
  },
  {
   "cell_type": "markdown",
   "metadata": {},
   "source": [
    "#### 찾은 soup에서 데이터를 구하기"
   ]
  },
  {
   "cell_type": "code",
   "execution_count": 31,
   "metadata": {},
   "outputs": [
    {
     "data": {
      "text/plain": [
       "'respect'"
      ]
     },
     "execution_count": 31,
     "metadata": {},
     "output_type": "execute_result"
    }
   ],
   "source": [
    "# text는 soup 내부에 문자열이 있으면 그것들을 모두 적절히 합쳐서 리턴한다.\n",
    "page_soup.find('span', class_='dhw').text"
   ]
  },
  {
   "cell_type": "code",
   "execution_count": 32,
   "metadata": {},
   "outputs": [
    {
     "name": "stdout",
     "output_type": "stream",
     "text": [
      "HTML: <div>Some<br />Plain<a href=\"/foo\">Link</a>Text<div><p>Children</p></div><div>\n"
     ]
    },
    {
     "data": {
      "text/plain": [
       "'SomePlainLinkTextChildren'"
      ]
     },
     "execution_count": 32,
     "metadata": {},
     "output_type": "execute_result"
    }
   ],
   "source": [
    "some_fool_html_string = \"\"\"\\\n",
    "<div>\\\n",
    "Some\\\n",
    "<br />\\\n",
    "Plain\\\n",
    "<a href=\"/foo\">Link</a>\\\n",
    "Text\\\n",
    "<div><p>Children</p></div>\\\n",
    "<div>\\\n",
    "\"\"\"\n",
    "\n",
    "print (\"HTML:\", some_fool_html_string)\n",
    "\n",
    "some_awesome_soup = BeautifulSoup(some_fool_html_string)\n",
    "\n",
    "some_awesome_soup.text"
   ]
  },
  {
   "cell_type": "code",
   "execution_count": 33,
   "metadata": {},
   "outputs": [
    {
     "name": "stdout",
     "output_type": "stream",
     "text": [
      "attrs 직접 참조: /\n",
      "생략 가능: /\n"
     ]
    }
   ],
   "source": [
    "# href, option의 name 등은 attributes를 통해 얻는다.\n",
    "\n",
    "print(\"attrs 직접 참조:\", page_soup.a.attrs[\"href\"])\n",
    "print(\"생략 가능:\", page_soup.a[\"href\"])"
   ]
  },
  {
   "cell_type": "code",
   "execution_count": 34,
   "metadata": {},
   "outputs": [
    {
     "name": "stdout",
     "output_type": "stream",
     "text": [
      "{'data_header_word': 'respect', 'data_header_part': 'noun', 'word': 'respect', 'part': 'noun', 'guide': '(ADMIRATION)', 'definition': 'admiration felt or shown for someone or something that you believe has good ideas or qualities:'}\n",
      "{'data_header_word': 'respect', 'data_header_part': 'noun', 'word': 'respect', 'part': 'noun', 'guide': '(HONOUR)', 'definition': 'politeness, honour, and care shown towards someone or something that is considered important:'}\n",
      "{'data_header_word': 'respect', 'data_header_part': 'noun', 'word': 'respect', 'part': 'noun', 'guide': '(FEATURE)', 'definition': 'a particular feature or detail:'}\n",
      "{'data_header_word': 'respect', 'data_header_part': 'verb [ T ]', 'word': 'respect', 'part': 'verb', 'guide': '(ADMIRE)', 'definition': 'to feel or show admiration for someone or something that you believe has good ideas or qualities:'}\n",
      "{'data_header_word': 'respect', 'data_header_part': 'verb [ T ]', 'word': 'respect', 'part': 'verb', 'guide': '(HONOUR)', 'definition': 'to treat something or someone with kindness and care:'}\n"
     ]
    }
   ],
   "source": [
    "# 이 기능들을 사용해서, 다음과 같이 원하는 데이터들을 구할 수 있다.\n",
    "\n",
    "main_body_soup = page_soup.select_one('div.di-body')\n",
    "\n",
    "def try_get_text(soup):\n",
    "  try:\n",
    "    return soup.text.strip()\n",
    "  except:\n",
    "    return None\n",
    "\n",
    "\n",
    "try:\n",
    "# noun, verb, ...\n",
    "  data_mean_set = []\n",
    "  for one_part_soup in main_body_soup.find_all(\"div\", class_=\"entry-body__el\"):\n",
    "    # pos-header\n",
    "    header_soup = one_part_soup.select_one(\"div.pos-header\")\n",
    "\n",
    "    # respect\n",
    "    data_header_word = try_get_text( header_soup.select_one(\"div.di-title\") )\n",
    "    # noun, verb [T]\n",
    "    data_header_part = try_get_text( header_soup.select_one(\"div.posgram\") )\n",
    "\n",
    "    \n",
    "    for one_mean_soup in one_part_soup.select('div.pr.dsense'):\n",
    "      data_word = try_get_text( one_mean_soup.find('span', class_='dsense_hw') )\n",
    "      data_part = try_get_text( one_mean_soup.find('span', class_='dsense_pos') )\n",
    "      data_guide_word = try_get_text( one_mean_soup.find('span', class_='dsense_gw') )\n",
    "\n",
    "      data_definition = try_get_text ( one_mean_soup.select_one('div.def') )\n",
    "\n",
    "      data_mean_set.append({\n",
    "        \"data_header_word\": data_header_word,\n",
    "        \"data_header_part\": data_header_part,\n",
    "        \"word\": data_word,\n",
    "        \"part\": data_part,\n",
    "        \"guide\": data_guide_word,\n",
    "        \"definition\": data_definition\n",
    "      })\n",
    "\n",
    "except Exception as e:\n",
    "  print (e)\n",
    "\n",
    "\n",
    "for value in data_mean_set:\n",
    "  print (value)"
   ]
  },
  {
   "cell_type": "markdown",
   "metadata": {},
   "source": [
    "### 4. 얻은 데이터를 저장하기\n",
    "\n",
    "파이썬의 변수에만 데이터가 들어있는 상태는 프로그램이 꺼지면 날라가는 휘발성 상태이다.\n",
    "\n",
    "DB 또는 파일에 저장하는 식으로 영구히 데이터를 보존할 수 있다."
   ]
  },
  {
   "cell_type": "markdown",
   "metadata": {},
   "source": [
    "## 동적 페이지 가지고 놀기"
   ]
  },
  {
   "cell_type": "code",
   "execution_count": 35,
   "metadata": {},
   "outputs": [
    {
     "name": "stdout",
     "output_type": "stream",
     "text": [
      "Requirement already satisfied: selenium in /Users/mcpads/.miniforge3/envs/webcrawl/lib/python3.8/site-packages (4.2.0)\n",
      "Requirement already satisfied: chromedriver-autoinstaller in /Users/mcpads/.miniforge3/envs/webcrawl/lib/python3.8/site-packages (0.3.1)\n",
      "Requirement already satisfied: urllib3[secure,socks]~=1.26 in /Users/mcpads/.miniforge3/envs/webcrawl/lib/python3.8/site-packages (from selenium) (1.26.9)\n",
      "Requirement already satisfied: trio-websocket~=0.9 in /Users/mcpads/.miniforge3/envs/webcrawl/lib/python3.8/site-packages (from selenium) (0.9.2)\n",
      "Requirement already satisfied: trio~=0.17 in /Users/mcpads/.miniforge3/envs/webcrawl/lib/python3.8/site-packages (from selenium) (0.20.0)\n",
      "Requirement already satisfied: sniffio in /Users/mcpads/.miniforge3/envs/webcrawl/lib/python3.8/site-packages (from trio~=0.17->selenium) (1.2.0)\n",
      "Requirement already satisfied: async-generator>=1.9 in /Users/mcpads/.local/lib/python3.8/site-packages (from trio~=0.17->selenium) (1.10)\n",
      "Requirement already satisfied: idna in /Users/mcpads/.miniforge3/envs/webcrawl/lib/python3.8/site-packages (from trio~=0.17->selenium) (3.3)\n",
      "Requirement already satisfied: outcome in /Users/mcpads/.miniforge3/envs/webcrawl/lib/python3.8/site-packages (from trio~=0.17->selenium) (1.1.0)\n",
      "Requirement already satisfied: attrs>=19.2.0 in /Users/mcpads/.miniforge3/envs/webcrawl/lib/python3.8/site-packages (from trio~=0.17->selenium) (21.4.0)\n",
      "Requirement already satisfied: sortedcontainers in /Users/mcpads/.miniforge3/envs/webcrawl/lib/python3.8/site-packages (from trio~=0.17->selenium) (2.4.0)\n",
      "Requirement already satisfied: wsproto>=0.14 in /Users/mcpads/.miniforge3/envs/webcrawl/lib/python3.8/site-packages (from trio-websocket~=0.9->selenium) (1.1.0)\n",
      "Requirement already satisfied: certifi in /Users/mcpads/.miniforge3/envs/webcrawl/lib/python3.8/site-packages (from urllib3[secure,socks]~=1.26->selenium) (2022.5.18.1)\n",
      "Requirement already satisfied: pyOpenSSL>=0.14 in /Users/mcpads/.miniforge3/envs/webcrawl/lib/python3.8/site-packages (from urllib3[secure,socks]~=1.26->selenium) (22.0.0)\n",
      "Requirement already satisfied: cryptography>=1.3.4 in /Users/mcpads/.miniforge3/envs/webcrawl/lib/python3.8/site-packages (from urllib3[secure,socks]~=1.26->selenium) (37.0.2)\n",
      "Requirement already satisfied: PySocks!=1.5.7,<2.0,>=1.5.6 in /Users/mcpads/.miniforge3/envs/webcrawl/lib/python3.8/site-packages (from urllib3[secure,socks]~=1.26->selenium) (1.7.1)\n",
      "Requirement already satisfied: cffi>=1.12 in /Users/mcpads/.miniforge3/envs/webcrawl/lib/python3.8/site-packages (from cryptography>=1.3.4->urllib3[secure,socks]~=1.26->selenium) (1.15.0)\n",
      "Requirement already satisfied: h11<1,>=0.9.0 in /Users/mcpads/.miniforge3/envs/webcrawl/lib/python3.8/site-packages (from wsproto>=0.14->trio-websocket~=0.9->selenium) (0.13.0)\n",
      "Requirement already satisfied: pycparser in /Users/mcpads/.miniforge3/envs/webcrawl/lib/python3.8/site-packages (from cffi>=1.12->cryptography>=1.3.4->urllib3[secure,socks]~=1.26->selenium) (2.21)\n",
      "Note: you may need to restart the kernel to use updated packages.\n"
     ]
    }
   ],
   "source": [
    "%pip install selenium chromedriver-autoinstaller"
   ]
  },
  {
   "cell_type": "markdown",
   "metadata": {},
   "source": [
    "### 1. 동적 페이지를 가져와서 정적 페이지처럼 만들기"
   ]
  },
  {
   "cell_type": "code",
   "execution_count": 36,
   "metadata": {},
   "outputs": [],
   "source": [
    "import os\n",
    "from selenium import webdriver\n",
    "import chromedriver_autoinstaller\n",
    "from selenium.webdriver.chrome.service import Service\n",
    "\n",
    "\n",
    "# 크롬 드라이버를 설치 후 그 위치를 리턴하는 함수이다.\n",
    "chrome_path = chromedriver_autoinstaller.install(True)\n",
    "\n",
    "# 크롬 드라이버를 셀레니움이 제공하는 서비스라는 것으로 감싸준다.\n",
    "s = Service(chrome_path)\n",
    "\n",
    "# Selenium에게 드라이버를 먹이면 동적 페이지를 정적 페이지로 만들 수 있다.\n",
    "driver = webdriver.Chrome(\n",
    "  service=s, # 서비스\n",
    ")"
   ]
  },
  {
   "cell_type": "code",
   "execution_count": 37,
   "metadata": {},
   "outputs": [],
   "source": [
    "driver.get(\"https://www.google.com\")\n",
    "# 5초를 기다려서 크롬이 동적 페이지를 계산할 때까지 기다려 준다.\n",
    "driver.implicitly_wait(5)\n",
    "\n",
    "# 참고: 시간을 지정하는 대신 필요한 페이지의 특정 부분이 나타날때까지 기다릴 수도 있다.\n",
    "from selenium.webdriver.support.ui import WebDriverWait\n",
    "from selenium.webdriver.support import expected_conditions as EC\n",
    "from selenium.webdriver.common.by import By\n",
    "\n",
    "# timeout 10초로 tag(tbody), id(volumeList)를 가진 node 밑에 tag(td), class(subj)를 가진 node가 나타날 때까지\n",
    "driver.get(\"https://series.naver.com/comic/detail.series?productNo=3189295\")\n",
    "result = WebDriverWait(driver, 10).until(EC.presence_of_element_located((By.CSS_SELECTOR, \"tbody#volumeList td.subj\")))\n"
   ]
  },
  {
   "cell_type": "markdown",
   "metadata": {},
   "source": [
    "### 2. 가져온 페이지를 수프로 만들거나 Selenium을 써서 추출 준비하기"
   ]
  },
  {
   "cell_type": "code",
   "execution_count": 38,
   "metadata": {},
   "outputs": [
    {
     "name": "stdout",
     "output_type": "stream",
     "text": [
      "<div style=\"display: none;\">\n",
      " <input name=\"jindo1654180394782\" type=\"input\"/>\n",
      "</div>\n",
      "<head>\n",
      " <meta charset=\"utf-8\"/>\n",
      " <meta content=\"-1\" http-equiv=\"Expires\"/>\n",
      " <meta content=\"no-cache\" http-equiv=\"Pragma\"/>\n",
      " <meta content=\"No-Cache\" http-equiv=\"Cache-Control\"/>\n",
      " <meta content=\"IE=edge\" http-equiv=\"X-UA-Compatible\"/>\n",
      " <title>\n",
      "  네이버 시리즈\n",
      " </title>\n",
      " <link href=\"https://ssl.pstatic.net/static/nstore/series_favicon_152.ico\" rel=\"shortcut icon\" type=\"image/x-icon\"/>\n",
      " <link href=\"https://ssl.pstatic.ne \n",
      "...\n"
     ]
    }
   ],
   "source": [
    "from bs4 import BeautifulSoup\n",
    "# 기본적으로 Selenium은 BeautifulSoup같이 페이지에서 값을 추출하는 기능을 제공한다.\n",
    "\n",
    "# 이 과정은 BeautifulSoup만 쓸 줄 안다 싶을때만 하면 된다.\n",
    "novel_soup = BeautifulSoup(driver.find_element(By.XPATH, \"//*\").get_attribute('innerHTML').encode('utf-8'))\n",
    "print(novel_soup.prettify()[0:500], \"\\n...\")"
   ]
  },
  {
   "cell_type": "markdown",
   "metadata": {},
   "source": [
    "### 3. 필요한 데이터를 Selenium으로 추출하기"
   ]
  },
  {
   "cell_type": "markdown",
   "metadata": {},
   "source": [
    "#### find_element 함수의 이용"
   ]
  },
  {
   "cell_type": "code",
   "execution_count": 39,
   "metadata": {},
   "outputs": [
    {
     "data": {
      "text/plain": [
       "'이말년씨리즈 2018 1화 가위바위보 올림픽 (2018.03.15.)'"
      ]
     },
     "execution_count": 39,
     "metadata": {},
     "output_type": "execute_result"
    }
   ],
   "source": [
    "from selenium.webdriver.common.by import By\n",
    "\n",
    "# find_element함수는 다양한 조건으로 원하는 노드로 찾아갈 수 있다.\n",
    "driver.find_element(By.CLASS_NAME, 'subj').text"
   ]
  },
  {
   "cell_type": "code",
   "execution_count": 40,
   "metadata": {},
   "outputs": [
    {
     "name": "stdout",
     "output_type": "stream",
     "text": [
      "이말년씨리즈 2018 1화 가위바위보 올림픽 (2018.03.15.)\n",
      "이말년씨리즈 2018 2화 요즘 아빠 지긋지긋해 (2018.03.15.)\n",
      "이말년씨리즈 2018 3화 헬스사각지대1 (2018.03.15.)\n",
      "이말년씨리즈 2018 4화 헬스사각지대2 (2018.03.15.)\n",
      "이말년씨리즈 2018 5화 -단독공개- 이말년의 아이디어 짜는 법 만... (2018.03.15.)\n",
      "이말년씨리즈 2018 6화 본격 이혼식 만화 1 (2018.03.15.)\n",
      "이말년씨리즈 2018 7화 본격 이혼식 만화 2 (2018.03.15.)\n",
      "이말년씨리즈 2018 8화 본격 이혼식 만화 3 (2018.03.15.)\n",
      "이말년씨리즈 2018 9화 본격 이혼식 만화 4 (2018.03.15.)\n",
      "이말년씨리즈 2018 10화 본격 이혼식 만화 5(완) (2018.03.15.)\n",
      "이말년씨리즈 2018 11화 하루종일 놀 순 없어 (2018.03.15.)\n",
      "이말년씨리즈 2018 12화 필살!애견에티켓 (2018.03.15.)\n",
      "이말년씨리즈 2018 13화 만화영화 보러가는 날 (2018.03.15.)\n",
      "이말년씨리즈 2018 14화 헬스 매니아 1 (2018.03.15.)\n",
      "이말년씨리즈 2018 15화 헬스 매니아 2 (완) (2018.03.15.)\n",
      "이말년씨리즈 2018 16화 솔방울 미술관 사건 1 (2018.03.15.)\n",
      "이말년씨리즈 2018 17화 솔방울 미술관 사건 2 (2018.03.14.)\n",
      "이말년씨리즈 2018 18화 솔방울 미술관 사건 3(완) (2018.03.14.)\n",
      "이말년씨리즈 2018 19화 대머리 특별금지법 1 (2018.03.14.)\n",
      "이말년씨리즈 2018 20화 대머리 특별금지법 2 (2018.03.14.)\n",
      "이말년씨리즈 2018 21화 대머리 특별금지법 3 (2018.03.14.)\n",
      "이말년씨리즈 2018 22화 대머리 특별금지법 4 (2018.03.16.)\n",
      "이말년씨리즈 2018 23화 대머리 특별금지법 5 (2018.03.21.)\n",
      "이말년씨리즈 2018 24화 대머리 특별금지법 6 (2018.03.23.)\n",
      "이말년씨리즈 2018 25화 대머리 특별금지법 7 (2018.03.28.)\n",
      "이말년씨리즈 2018 26화 대머리 특별금지법 8(완) (2018.03.30.)\n",
      "이말년씨리즈 2018 27화 행복쇼핑만화 -파멸편- (2018.04.04.)\n",
      "이말년씨리즈 2018 28화 행복쇼핑만화 -희망편- (2018.04.06.)\n",
      "이말년씨리즈 2018 29화 '신과함께'의 저주 1 (2018.04.11.)\n",
      "이말년씨리즈 2018 30화 '신과함께'의 저주 2 (2018.04.13.)\n"
     ]
    }
   ],
   "source": [
    "# 조건을 만족하는 모든 노드를 찾기 위해 find_elements 함수를 이용한다.\n",
    "\n",
    "for elem in driver.find_elements(By.CLASS_NAME, 'subj'):\n",
    "  print (elem.text)"
   ]
  },
  {
   "cell_type": "markdown",
   "metadata": {},
   "source": [
    "#### CSS Selector 사용"
   ]
  },
  {
   "cell_type": "code",
   "execution_count": 41,
   "metadata": {},
   "outputs": [
    {
     "data": {
      "text/plain": [
       "'이말년씨리즈 2018 1화 가위바위보 올림픽 (2018.03.15.)'"
      ]
     },
     "execution_count": 41,
     "metadata": {},
     "output_type": "execute_result"
    }
   ],
   "source": [
    "# find_element 함수로 CSS Selector 방식으로 값이 담긴 노드를 찾을 수 있다.\n",
    "driver.find_element(By.CSS_SELECTOR, 'td.subj').text"
   ]
  },
  {
   "cell_type": "code",
   "execution_count": 42,
   "metadata": {},
   "outputs": [
    {
     "data": {
      "text/plain": [
       "'메인메뉴 바로가기'"
      ]
     },
     "execution_count": 42,
     "metadata": {},
     "output_type": "execute_result"
    }
   ],
   "source": [
    "driver.find_element(By.CSS_SELECTOR, \"a[href^='#']\").text"
   ]
  },
  {
   "cell_type": "markdown",
   "metadata": {},
   "source": [
    "#### XPath 사용"
   ]
  },
  {
   "cell_type": "code",
   "execution_count": 43,
   "metadata": {},
   "outputs": [
    {
     "data": {
      "text/plain": [
       "'이말년씨리즈 2018 1화 가위바위보 올림픽 (2018.03.15.)'"
      ]
     },
     "execution_count": 43,
     "metadata": {},
     "output_type": "execute_result"
    }
   ],
   "source": [
    "# find_element 함수로 XPath 방식으로 값이 담긴 노드를 찾을 수 있다.\n",
    "driver.find_element(By.XPATH, \"//td[contains(@class, 'subj')]\").text"
   ]
  },
  {
   "cell_type": "code",
   "execution_count": 44,
   "metadata": {},
   "outputs": [
    {
     "data": {
      "text/plain": [
       "'이말년씨리즈 2018'"
      ]
     },
     "execution_count": 44,
     "metadata": {},
     "output_type": "execute_result"
    }
   ],
   "source": [
    "# 복잡한 조건도 넣을 수 있다.\n",
    "driver.find_element(By.XPATH, \"//div[@id='content']/div[contains(@class, 'end_head')]/h2\").text"
   ]
  },
  {
   "cell_type": "markdown",
   "metadata": {},
   "source": [
    "### 4. 얻은 데이터를 저장하기\n",
    "\n",
    "어느 방식이든 잊지 말고 데이터를 저장하도록 하자."
   ]
  },
  {
   "cell_type": "code",
   "execution_count": 45,
   "metadata": {},
   "outputs": [],
   "source": [
    "# 모든 것이 끝나면 다음 방식으로 드라이버를 닫는다.\n",
    "\n",
    "driver.close()"
   ]
  },
  {
   "cell_type": "markdown",
   "metadata": {},
   "source": [
    "## 큰 페이지에서 작은 페이지 순회하여 모든 데이터 끌어오기"
   ]
  },
  {
   "cell_type": "markdown",
   "metadata": {},
   "source": [
    "## 외전: 자동화된 프로그램에서의 셀레니움"
   ]
  },
  {
   "cell_type": "code",
   "execution_count": 46,
   "metadata": {},
   "outputs": [
    {
     "name": "stderr",
     "output_type": "stream",
     "text": [
      "/var/folders/8w/jy24r__500q81wl60g2fqld00000gn/T/ipykernel_32344/4282400188.py:32: DeprecationWarning: use options instead of chrome_options\n",
      "  driver = webdriver.Chrome(\n"
     ]
    }
   ],
   "source": [
    "from selenium import webdriver\n",
    "import chromedriver_autoinstaller\n",
    "from selenium.webdriver.chrome.options import Options\n",
    "from selenium.webdriver.chrome.service import Service\n",
    "\n",
    "\n",
    "# 크롬 드라이버를 설치 후 그 위치를 리턴하는 함수이다.\n",
    "chrome_path = chromedriver_autoinstaller.install(True)\n",
    "\n",
    "# 크롬 드라이버를 셀레니움이 제공하는 서비스라는 것으로 감싸준다.\n",
    "s = Service(chrome_path)\n",
    "\n",
    "\n",
    "# 웹 드라이버 옵션\n",
    "driver_options = Options()\n",
    "\n",
    "# 자동으로 나오는 브라우저가 안열리게 하는 기능\n",
    "driver_options.add_argument('--headless')\n",
    "\n",
    "# 보이지 않는 브라우저가 실제로 어떤 크기를 가지는지 지정 (너비, 높이)\n",
    "driver_options.add_argument(\"--window-size=1920,1080\")\n",
    "\n",
    "# 화면이 안나오는 환경에서 이미지 다운로드를 막아서 너무 많은 리소스를 크롤링때 데려오는걸 막음\n",
    "driver_options.add_argument(\"--blink-settings=imagesEnabled=false\")\n",
    "driver_options.add_experimental_option(\n",
    "    \"prefs\", {\"profile.managed_default_content_settings.images\": 2})\n",
    "\n",
    "# 화면이 나타나지 않는 리눅스에서 추가해야하는 기능\n",
    "driver_options.add_argument('--no-sandbox')\n",
    "\n",
    "\n",
    "driver = webdriver.Chrome(\n",
    "  service=s, # 서비스\n",
    "  chrome_options=driver_options, # 추가 옵션\n",
    ")"
   ]
  },
  {
   "cell_type": "code",
   "execution_count": 47,
   "metadata": {},
   "outputs": [],
   "source": [
    "from selenium.webdriver.support.ui import WebDriverWait\n",
    "from selenium.webdriver.support import expected_conditions as EC\n",
    "from selenium.webdriver.common.by import By\n",
    "\n",
    "# 적당한 페이지를 가져왔을 때,\n",
    "driver.get(\"https://series.naver.com/comic/detail.series?productNo=3189295\")\n",
    "result = WebDriverWait(driver, 10).until(EC.presence_of_element_located((By.CSS_SELECTOR, \"tbody#volumeList td.subj\")))\n",
    "\n",
    "# 크롬창이 없더라도 페이지를 제대로 잘 가져왔는지 다음 명령으로 스크린샷을 떠서 확인할 수 있다.\n",
    "with open (\"screenshot.png\", 'wb') as fp:\n",
    "  fp.write(driver.get_screenshot_as_png())\n",
    "\n",
    "\n",
    "driver.close()"
   ]
  }
 ],
 "metadata": {
  "language_info": {
   "name": "python"
  },
  "orig_nbformat": 4
 },
 "nbformat": 4,
 "nbformat_minor": 2
}
